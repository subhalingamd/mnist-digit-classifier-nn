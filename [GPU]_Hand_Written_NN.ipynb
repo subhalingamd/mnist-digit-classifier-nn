{
  "nbformat": 4,
  "nbformat_minor": 0,
  "metadata": {
    "colab": {
      "name": "[GPU] Copy of [97+] Copy of Copy of Hand Written - NN.ipynb",
      "provenance": [],
      "collapsed_sections": [],
      "mount_file_id": "1ILVnrSg8H8REeO_PUTmvQ9ioBSDoYlfw",
      "authorship_tag": "ABX9TyPoSPXoa7vFJd0FFVnuc9R+"
    },
    "kernelspec": {
      "name": "python3",
      "display_name": "Python 3"
    },
    "accelerator": "GPU"
  },
  "cells": [
    {
      "cell_type": "markdown",
      "metadata": {
        "id": "SSPVeIIOKaVx",
        "colab_type": "text"
      },
      "source": [
        "# MNIST dataset - Neural Netowrk \n",
        "Built the neural network from scratch... Got an accuracy upto 98.5% (without minibatches)\n",
        "\n",
        "*> **Note:** `cupy` is simalar to 'numpy' with GPU support*\n",
        "\n",
        "**Net Schema:** INP(784) -> [RELU(128) + tanh(64)](192) -> RELU(48)) -> softmax(10)  with regularisation, inverted dropout, etc.\n",
        "\n",
        "*This is not a formal documentation!*"
      ]
    },
    {
      "cell_type": "markdown",
      "metadata": {
        "id": "CzTFMrC9Vnm_",
        "colab_type": "text"
      },
      "source": [
        "**Import libraries**"
      ]
    },
    {
      "cell_type": "code",
      "metadata": {
        "id": "OMcybnyoHUNZ",
        "colab_type": "code",
        "colab": {}
      },
      "source": [
        "import cupy as np\n",
        "import matplotlib.pyplot as plt"
      ],
      "execution_count": 0,
      "outputs": []
    },
    {
      "cell_type": "markdown",
      "metadata": {
        "id": "OGnv7DDAVV96",
        "colab_type": "text"
      },
      "source": [
        "**Import Dataset**\n",
        "\n",
        "*Change the path!*"
      ]
    },
    {
      "cell_type": "code",
      "metadata": {
        "id": "lptO7tyua2Aa",
        "colab_type": "code",
        "colab": {}
      },
      "source": [
        "import gzip, pickle\n",
        "with gzip.open('/content/drive/My Drive/colab/mnist.pkl.gz','rb') as ff :\n",
        "  u = pickle._Unpickler( ff )\n",
        "  u.encoding = 'latin1'\n",
        "  train, val, test = u.load()"
      ],
      "execution_count": 0,
      "outputs": []
    },
    {
      "cell_type": "markdown",
      "metadata": {
        "id": "Ep2Ewf5fgoCA",
        "colab_type": "text"
      },
      "source": [
        "**Minor changes to dataset**"
      ]
    },
    {
      "cell_type": "code",
      "metadata": {
        "id": "YTvjCsDNbi63",
        "colab_type": "code",
        "colab": {}
      },
      "source": [
        "X_train = train[0].T\n",
        "y_train = train[1].reshape(1,train[1].shape[0])\n",
        "\n",
        "X_val = val[0].T\n",
        "y_val = val[1].reshape(1,val[1].shape[0])\n",
        "\n",
        "X_test = test[0].T\n",
        "y_test = test[1].reshape(1,test[1].shape[0])\n",
        "\n",
        "Y_train = np.zeros((10,y_train.shape[1]))\n",
        "Y_val = np.zeros((10,y_val.shape[1]))\n",
        "Y_test = np.zeros((10,y_test.shape[1]))\n",
        "\n",
        "Y_train[y_train,np.arange(y_train.shape[1])]=1\n",
        "Y_val[y_val,np.arange(y_val.shape[1])]=1\n",
        "Y_test[y_test,np.arange(y_test.shape[1])]=1"
      ],
      "execution_count": 0,
      "outputs": []
    },
    {
      "cell_type": "code",
      "metadata": {
        "id": "shfNzs3gTweL",
        "colab_type": "code",
        "colab": {}
      },
      "source": [
        "X_train = np.array(X_train)\n",
        "y_train = np.array(y_train)\n",
        "Y_train = np.array(Y_train)\n",
        "\n",
        "X_val = np.array(X_val)\n",
        "y_val = np.array(y_val)\n",
        "Y_val = np.array(Y_val)\n",
        "\n",
        "X_test = np.array(X_test)\n",
        "y_test = np.array(y_test)\n",
        "Y_test = np.array(Y_test)"
      ],
      "execution_count": 0,
      "outputs": []
    },
    {
      "cell_type": "markdown",
      "metadata": {
        "id": "ALKg1yh8eW6r",
        "colab_type": "text"
      },
      "source": [
        "**Useful methods**"
      ]
    },
    {
      "cell_type": "code",
      "metadata": {
        "id": "ewfe0bpcebQM",
        "colab_type": "code",
        "colab": {}
      },
      "source": [
        "def tanh(X):\n",
        "  return (np.exp(X)-np.exp(-X))/(np.exp(X)+np.exp(-X))\n",
        "\n",
        "def tanh_(X):\n",
        "  return 1-tanh(X)**2\n",
        "\n",
        "def relu(X):\n",
        "  return np.maximum(0,X)\n",
        "\n",
        "def relu_(X):\n",
        "  return (X>0).astype(int)\n",
        "\n",
        "\n",
        "def softmax(X):\n",
        "    expo = np.exp(X)\n",
        "    expo_sum = np.sum(np.exp(X),axis=0,keepdims=True)\n",
        "    return expo/expo_sum"
      ],
      "execution_count": 0,
      "outputs": []
    },
    {
      "cell_type": "markdown",
      "metadata": {
        "id": "Wg-S73AqzfC_",
        "colab_type": "text"
      },
      "source": [
        "**Initialise parameters**\n",
        "\n",
        "Used Xavier & He's method for weights and zeros for biases"
      ]
    },
    {
      "cell_type": "code",
      "metadata": {
        "id": "kfd7ubXS2HmB",
        "colab_type": "code",
        "colab": {}
      },
      "source": [
        "def init_param():\n",
        "  np.random.seed(4)\n",
        "  \n",
        "  W11 = np.random.randn(128,784) * np.sqrt(2/784)\n",
        "  b11 = np.zeros((128,1))\n",
        "  # b11 = np.random.randn(128,1) * np.sqrt(1/784)\n",
        "  \n",
        "  W12 = np.random.randn(64,784) * np.sqrt(2/784)\n",
        "  b12 = np.zeros((64,1))\n",
        "  # b12 = np.random.randn(64,1) * np.sqrt(1/784)\n",
        "  \n",
        "  W2 = np.random.randn(48,192) * np.sqrt(1/192)\n",
        "  b2 = np.zeros((48,1))\n",
        "  # b2 = np.random.randn(48,1) * np.sqrt(1/192)\n",
        "  \n",
        "  W3 = np.random.randn(10,48) * np.sqrt(2/48)\n",
        "  b3 = np.zeros((10,1))\n",
        "  # b3 = np.random.randn(10,1) * np.sqrt(1/48)\n",
        "\n",
        "  np.cuda.Stream.null.synchronize()\n",
        "\n",
        "  return W11,b11,W12,b12,W2,b2,W3,b3"
      ],
      "execution_count": 0,
      "outputs": []
    },
    {
      "cell_type": "markdown",
      "metadata": {
        "id": "htztscXLH_L0",
        "colab_type": "text"
      },
      "source": [
        "**Forward prop**\n",
        "\n",
        "[RELU tanh] -> RELU -> softmax\n",
        "\n",
        "  [128 64]  -> [48] ->   [10]"
      ]
    },
    {
      "cell_type": "code",
      "metadata": {
        "id": "BXpOCMVw2Y1U",
        "colab_type": "code",
        "colab": {}
      },
      "source": [
        "def fwd_prop(X,Y,W11,b11,W12,b12,W2,b2,W3,b3,keep_prob_11=1,keep_prob_12=1,keep_prob_2=1,reg_fact_3=1.2,reg_fact_2=1.2,reg_fact_12=0.9,reg_fact_11=1.2,epsilon=10e-8):\n",
        "  m = X.shape[1]\n",
        "  A11_,A12_,A2_=0,0,0\n",
        "\n",
        "  Z11 = np.dot(W11,X) + b11\n",
        "  Z12 = np.dot(W12,X) + b12\n",
        "  np.cuda.Stream.null.synchronize()\n",
        "  \n",
        "  A11 = relu(Z11)\n",
        "  A12 = tanh(Z12)\n",
        "  np.cuda.Stream.null.synchronize()\n",
        "\n",
        "  if keep_prob_11 < 1:\n",
        "    A11_ = np.random.rand(A11.shape[0],1)\n",
        "    np.cuda.Stream.null.synchronize()\n",
        "    A11_ = A11_<keep_prob_11\n",
        "    np.cuda.Stream.null.synchronize()\n",
        "    A11 = np.multiply(A11_,A11)\n",
        "    np.cuda.Stream.null.synchronize()\n",
        "    A11 /= keep_prob_11\n",
        "    np.cuda.Stream.null.synchronize()\n",
        "\n",
        "  if keep_prob_12 < 1:\n",
        "    A12_ = np.random.rand(A12.shape[0],1)\n",
        "    np.cuda.Stream.null.synchronize()\n",
        "    A12_ = A12_<keep_prob_12\n",
        "    np.cuda.Stream.null.synchronize()\n",
        "    A12 = np.multiply(A12_,A12)\n",
        "    np.cuda.Stream.null.synchronize()\n",
        "    A12 /= keep_prob_12\n",
        "\n",
        "  A1 = np.concatenate((A11,A12))\n",
        "  np.cuda.Stream.null.synchronize()\n",
        "\n",
        "  Z2 = np.dot(W2,A1) + b2\n",
        "  np.cuda.Stream.null.synchronize()\n",
        "  A2 = relu(Z2)\n",
        "  np.cuda.Stream.null.synchronize()\n",
        "\n",
        "  if keep_prob_2 < 1:\n",
        "    A2_ = np.random.rand(A2.shape[0],1)\n",
        "    np.cuda.Stream.null.synchronize()\n",
        "    A2_ = A2_<keep_prob_2\n",
        "    np.cuda.Stream.null.synchronize()\n",
        "    A2 = np.multiply(A2_,A2)\n",
        "    np.cuda.Stream.null.synchronize()\n",
        "    A2 /= keep_prob_2\n",
        "\n",
        "  Z3 = np.dot(W3,A2) + b3\n",
        "  np.cuda.Stream.null.synchronize()\n",
        "  A3 = softmax(Z3)\n",
        "  np.cuda.Stream.null.synchronize()\n",
        "\n",
        "  #reg_fact_11 = reg_fact_12 = reg_fact_2 = reg_fact_3 = 0.5 \n",
        "  cross_entropy = -np.sum(Y*np.log(A3+epsilon))/m\n",
        "  reg = (reg_fact_3*np.mean(W3**2)+reg_fact_2*np.mean(W2**2)+reg_fact_12*np.mean(W12**2)+reg_fact_11*np.mean(W11**2))/2\n",
        "  np.cuda.Stream.null.synchronize()\n",
        "\n",
        "  J = cross_entropy + reg\n",
        "  np.cuda.Stream.null.synchronize()\n",
        "\n",
        "  cache = []\n",
        "  cache.append(A3)\n",
        "  cache.append(A2)\n",
        "  cache.append(A12)\n",
        "  cache.append(A11)\n",
        "  cache.append(Z3)\n",
        "  cache.append(Z2)\n",
        "  cache.append(Z12)\n",
        "  cache.append(Z11)\n",
        "\n",
        "  cache.append(A2_)\n",
        "  cache.append(A12_)\n",
        "  cache.append(A11_)\n",
        "\n",
        "  \n",
        "\n",
        "\n",
        "  return A3,J,cache"
      ],
      "execution_count": 0,
      "outputs": []
    },
    {
      "cell_type": "markdown",
      "metadata": {
        "id": "G0oiwBM6IgfK",
        "colab_type": "text"
      },
      "source": [
        "**Back Prop**"
      ]
    },
    {
      "cell_type": "code",
      "metadata": {
        "id": "5C4cdH9p2Y-J",
        "colab_type": "code",
        "colab": {}
      },
      "source": [
        "def bck_prop(X,Y,W11,W12,W2,W3,cache,keep_prob_11=1,keep_prob_12=1,keep_prob_2=1,reg_fact_3=1.2,reg_fact_2=1.2,reg_fact_12=0.9,reg_fact_11=1.2):\n",
        "  A3 = cache[0]\n",
        "  A2 = cache[1]\n",
        "  A12 = cache[2]\n",
        "  A11 = cache[3]\n",
        "  Z3 = cache[4]\n",
        "  Z2 = cache[5]\n",
        "  Z12 = cache[6]\n",
        "  Z11 = cache[7]\n",
        "\n",
        "  A2_ = cache[8]\n",
        "  A12_ = cache[9]\n",
        "  A11_ = cache[10]\n",
        "\n",
        "\n",
        "  # reg_fact_11 = reg_fact_12 = reg_fact_2 = reg_fact_3 = 0.5 \n",
        "\n",
        "  A1 = np.concatenate((A11,A12))\n",
        "\n",
        "  m = X.shape[1]\n",
        "\n",
        "  dZ3 = A3-Y\n",
        "  np.cuda.Stream.null.synchronize()\n",
        "  \n",
        "  dW3 = np.dot(dZ3,A2.T)/m\n",
        "  db3 = np.sum(dZ3,axis=1,keepdims=True)/m\n",
        "\n",
        "  dZ2 = np.dot(W3.T,dZ3)*relu_(Z2)\n",
        "  \n",
        "  np.cuda.Stream.null.synchronize()\n",
        "\n",
        "  if keep_prob_2 < 1:\n",
        "    dZ2 = np.multiply(dZ2,A2_)/keep_prob_2\n",
        "  \n",
        "  np.cuda.Stream.null.synchronize()\n",
        "  \n",
        "  dW2 = np.dot(dZ2,A1.T)/m\n",
        "  db2 = np.sum(dZ2,axis=1,keepdims=True)/m\n",
        "\n",
        "  dZ12 = np.dot(W2.T,dZ2)[Z11.shape[0]:,:]*tanh_(Z12)\n",
        "  dZ11 = np.dot(W2.T,dZ2)[0:Z11.shape[0],:]*relu_(Z11)\n",
        "  \n",
        "  np.cuda.Stream.null.synchronize()\n",
        "\n",
        "  if keep_prob_12 < 1:\n",
        "    dZ12 = np.multiply(dZ12,A12_)/keep_prob_12\n",
        "    \n",
        "  if keep_prob_11 < 1:\n",
        "    dZ11 = np.multiply(dZ11,A11_)/keep_prob_11\n",
        "  \n",
        "  np.cuda.Stream.null.synchronize()\n",
        "  \n",
        "\n",
        "  dW12 = np.dot(dZ12,X.T)/m\n",
        "  db12 = np.sum(dZ12,axis=1,keepdims=True)/m\n",
        "\n",
        "  dW11 = np.dot(dZ11,X.T)/m\n",
        "  db11 = np.sum(dZ11,axis=1,keepdims=True)/m\n",
        "\n",
        "  np.cuda.Stream.null.synchronize()\n",
        "\n",
        "\n",
        "  dW11 += reg_fact_11 * W11 /m\n",
        "  dW12 += reg_fact_12 * W12 /m\n",
        "  dW2 += reg_fact_2 * W2 /m\n",
        "  dW3 += reg_fact_3 * W3 /m\n",
        "\n",
        "  np.cuda.Stream.null.synchronize()\n",
        "\n",
        "  return dW11,db11,dW12,db12,dW2,db2,dW3,db3"
      ],
      "execution_count": 0,
      "outputs": []
    },
    {
      "cell_type": "markdown",
      "metadata": {
        "id": "2fI91HuHInFB",
        "colab_type": "text"
      },
      "source": [
        "**A step in Adam-*like* optimser**\n",
        "\n",
        "Does NOT include the scaling factor"
      ]
    },
    {
      "cell_type": "code",
      "metadata": {
        "id": "GX-Ed4MJ4Ajj",
        "colab_type": "code",
        "colab": {}
      },
      "source": [
        "def Adam_step(X,v,s,dX,i,learn_rate,beta1,beta2,epsilon):\n",
        "  v = beta1*v + (1-beta1)*dX\n",
        "  s = beta2*s + (1-beta2)*(dX**2)\n",
        "\n",
        "  np.cuda.Stream.null.synchronize()\n",
        "\n",
        "  #v_ = v/(1-(beta1)**i)\n",
        "  #s_ = s/(1-(beta2)**i)\n",
        "\n",
        "  #X-=learn_rate*v\n",
        "  X -= (learn_rate * v / (np.sqrt(s)+epsilon))\n",
        "  np.cuda.Stream.null.synchronize()\n",
        "\n",
        "  return X,v,s\n"
      ],
      "execution_count": 0,
      "outputs": []
    },
    {
      "cell_type": "markdown",
      "metadata": {
        "id": "oK6xGcvZI2tC",
        "colab_type": "text"
      },
      "source": [
        "**Train model**\n",
        "\n",
        "Also check accuracy at each 100 steps"
      ]
    },
    {
      "cell_type": "code",
      "metadata": {
        "id": "WflAx-U4znuc",
        "colab_type": "code",
        "colab": {}
      },
      "source": [
        "def train_model(X,Y,learn_rate=0.001,iter=1000,reg_fact_3=1.2,reg_fact_2=1.2,reg_fact_12=1.05,reg_fact_11=1.19,keep_prob_11=0.93,keep_prob_12=0.93,keep_prob_2=0.95,beta1=0.9,beta2=0.999,epsilon=10e-8):\n",
        "  W11,b11,W12,b12,W2,b2,W3,b3 = init_param()  \n",
        "  np.cuda.Stream.null.synchronize()  \n",
        "   \n",
        "  #W11,b11,W12,b12,W2,b2,W3,b3 = upd_param(W11,b11,W12,b12,W2,b2,W3,b3,dW11,db11,dW12,db12,dW2,db2,dW3,db3,learn_rate=learn_rate)\n",
        "\n",
        "  J_t = 10000\n",
        "\n",
        "  J=10000\n",
        "  v_dW11,v_dW12,v_dW2,v_dW3,v_db11,v_db12,v_db2,v_db3,s_dW11,s_dW12,s_dW2,s_dW3,s_db11,s_db12,s_db2,s_db3 = 0,0,0,0,0,0,0,0,0,0,0,0,0,0,0,0\n",
        "\n",
        "\n",
        "  for i in range(iter):\n",
        "\n",
        "    J_t = J\n",
        "\n",
        "    _,J,cache = fwd_prop(X_train,Y_train,W11,b11,W12,b12,W2,b2,W3,b3,keep_prob_11=keep_prob_11,keep_prob_12=keep_prob_12,keep_prob_2=keep_prob_2,reg_fact_3=reg_fact_3,reg_fact_2=reg_fact_2,reg_fact_12=reg_fact_12,reg_fact_11=reg_fact_11)\n",
        "    np.cuda.Stream.null.synchronize()\n",
        "\n",
        "    dW11,db11,dW12,db12,dW2,db2,dW3,db3 = bck_prop(X_train,Y_train,W11,W12,W2,W3,cache,keep_prob_11=keep_prob_11,keep_prob_12=keep_prob_12,keep_prob_2=keep_prob_2,reg_fact_3=reg_fact_3,reg_fact_2=reg_fact_2,reg_fact_12=reg_fact_12,reg_fact_11=reg_fact_11)\n",
        "    np.cuda.Stream.null.synchronize()\n",
        "\n",
        "    '''\n",
        "    W11 -= learn_rate * dW11\n",
        "    b11 -= learn_rate * db11\n",
        "    W12 -= learn_rate * dW12\n",
        "    b12 -= learn_rate * db12\n",
        "    W2 -= learn_rate * dW2\n",
        "    b2 -= learn_rate * db2\n",
        "    W3 -= learn_rate * dW3\n",
        "    b3 -= learn_rate * db3\n",
        "    '''\n",
        "    #if (i%1000==0):\n",
        "    #  learn_rate*=np.sqrt(1/((i//1000)+1))\n",
        "\n",
        "    W11,v_dW11,s_dW11 = Adam_step(W11,v_dW11,s_dW11,dW11,i+1,learn_rate,beta1,beta2,epsilon)\n",
        "    W12,v_dW12,s_dW12 = Adam_step(W12,v_dW12,s_dW12,dW12,i+1,learn_rate,beta1,beta2,epsilon)\n",
        "    W2,v_dW2,s_dW2 = Adam_step(W2,v_dW2,s_dW2,dW2,i+1,learn_rate,beta1,beta2,epsilon)\n",
        "    W3,v_dW3,s_dW3 = Adam_step(W3,v_dW3,s_dW3,dW3,i+1,learn_rate,beta1,beta2,epsilon)\n",
        "\n",
        "    b11,v_db11,s_db11 = Adam_step(b11,v_db11,s_db11,db11,i+1,learn_rate,beta1,beta2,epsilon)\n",
        "    b12,v_db12,s_db12 = Adam_step(b12,v_db12,s_db12,db12,i+1,learn_rate,beta1,beta2,epsilon)\n",
        "    b2,v_db2,s_db2 = Adam_step(b2,v_db2,s_db2,db2,i+1,learn_rate,beta1,beta2,epsilon)\n",
        "    b3,v_db3,s_db3 = Adam_step(b3,v_db3,s_db3,db3,i+1,learn_rate,beta1,beta2,epsilon)\n",
        "    \n",
        "\n",
        "    np.cuda.Stream.null.synchronize()\n",
        "\n",
        "    #if J>J_t:\n",
        "      #print(\"\\t\\t Warning!! J exceeded prev value\")\n",
        "      #print(\"\\t\\tWarning at \",i,':\\t J=',J,'exceeded previous value \\t [ J_prev =',J_t,']')\n",
        "      #break\n",
        "    \n",
        "    if i%100==0:\n",
        "      print(\"\\tIteration \",i,':\\t J=',J,end='\\t\\t')\n",
        "      ans,_,__ = fwd_prop(X_val,Y_val,W11,b11,W12,b12,W2,b2,W3,b3)\n",
        "      ans1,_,__ = fwd_prop(X_test,Y_test,W11,b11,W12,b12,W2,b2,W3,b3)\n",
        "      np.cuda.Stream.null.synchronize()\n",
        "\n",
        "      ans = np.argmax(ans,axis=0)\n",
        "      ans1 = np.argmax(ans1,axis=0)\n",
        "      np.cuda.Stream.null.synchronize()\n",
        "\n",
        "      acc = np.mean((ans==y_val).astype(int))\n",
        "      acc1 = np.mean((ans1==y_test).astype(int))\n",
        "      np.cuda.Stream.null.synchronize()\n",
        "\n",
        "      acc = [acc,acc1]\n",
        "\n",
        "      print('Accuracy: ',acc)\n",
        "\n",
        "\n",
        "\n",
        "  return W11,b11,W12,b12,W2,b2,W3,b3   "
      ],
      "execution_count": 0,
      "outputs": []
    },
    {
      "cell_type": "markdown",
      "metadata": {
        "id": "8szK1VshI_xC",
        "colab_type": "text"
      },
      "source": [
        "**Start training in loop**\n",
        "\n",
        "Trained only once here...\n",
        "\n",
        "The regularisation parameters & dropout probability given in the respective dictionaries\n",
        "\n",
        "*Import time from bottom if required!*"
      ]
    },
    {
      "cell_type": "code",
      "metadata": {
        "id": "wCRfZfzX6Xg2",
        "colab_type": "code",
        "outputId": "86a9bf91-8a27-4a10-a4d3-1ac94cb4e4a3",
        "colab": {
          "base_uri": "https://localhost:8080/",
          "height": 1000
        }
      },
      "source": [
        "st = time.time()\n",
        "\n",
        "for i in range(1):\n",
        "  learn_rate = np.random.rand() * -4\n",
        "  learn_rate = 10 ** learn_rate\n",
        "\n",
        "  learn_rate = 0.001\n",
        "\n",
        "  \n",
        "\n",
        "  reg_param = {'reg_fact_3':2.12,'reg_fact_2':1.01,'reg_fact_12':1.05,'reg_fact_11':1.19}\n",
        "  keep_prob = {'keep_prob_11':0.9,'keep_prob_12':0.85,'keep_prob_2':0.95}\n",
        "\n",
        "  print(\">>>>>>>>>>>>>>> reg =\",reg_param,\"|| keep_prob =\",keep_prob)\n",
        "  W11,b11,W12,b12,W2,b2,W3,b3=train_model(X_train,Y_train,iter=9001,keep_prob_11=keep_prob['keep_prob_11'],keep_prob_12=keep_prob['keep_prob_11'],keep_prob_2=keep_prob['keep_prob_11'],reg_fact_3=reg_param['reg_fact_3'],reg_fact_2=reg_param['reg_fact_2'],reg_fact_12=reg_param['reg_fact_12'],reg_fact_11=reg_param['reg_fact_11'])\n",
        "  np.cuda.Stream.null.synchronize()\n",
        "  print('===============',end=' ')\n",
        "\n",
        "et = time.time()\n",
        "\n",
        "el = et - st\n",
        "\n",
        "ans,_,__ = fwd_prop(X_val,Y_val,W11,b11,W12,b12,W2,b2,W3,b3)\n",
        "ans1,_,__ = fwd_prop(X_test,Y_test,W11,b11,W12,b12,W2,b2,W3,b3)\n",
        "np.cuda.Stream.null.synchronize()\n",
        "\n",
        "ans = np.argmax(ans,axis=0)\n",
        "ans1 = np.argmax(ans1,axis=0)\n",
        "np.cuda.Stream.null.synchronize()\n",
        "\n",
        "acc = np.mean((ans==y_val).astype(int))\n",
        "acc1 = np.mean((ans1==y_test).astype(int))\n",
        "np.cuda.Stream.null.synchronize()\n",
        "\n",
        "\n",
        "acc = [acc,acc1]\n",
        "\n",
        "print('Accuracy: ',acc)\n",
        "print(\"Time taken: \",el//60,'m ',el%60,'s')\n",
        "\n",
        "\n",
        "\n",
        "\n"
      ],
      "execution_count": 0,
      "outputs": [
        {
          "output_type": "stream",
          "text": [
            ">>>>>>>>>>>>>>> reg = {'reg_fact_3': 2.12, 'reg_fact_2': 1.01, 'reg_fact_12': 1.05, 'reg_fact_11': 1.19} || keep_prob = {'keep_prob_11': 0.9, 'keep_prob_12': 0.85, 'keep_prob_2': 0.95}\n",
            "\tIteration  0 :\t J= 2.4194310625848696\t\tAccuracy:  [array(0.2489), array(0.2408)]\n",
            "\tIteration  100 :\t J= 0.273951662988868\t\tAccuracy:  [array(0.9528), array(0.9489)]\n",
            "\tIteration  200 :\t J= 0.19774261976798824\t\tAccuracy:  [array(0.9646), array(0.9614)]\n",
            "\tIteration  300 :\t J= 0.17178763182796908\t\tAccuracy:  [array(0.97), array(0.9686)]\n",
            "\tIteration  400 :\t J= 0.15741613021199505\t\tAccuracy:  [array(0.9718), array(0.9695)]\n",
            "\tIteration  500 :\t J= 0.1461838790130392\t\tAccuracy:  [array(0.9746), array(0.974)]\n",
            "\tIteration  600 :\t J= 0.14029912403772046\t\tAccuracy:  [array(0.9754), array(0.9762)]\n",
            "\tIteration  700 :\t J= 0.13461989356549073\t\tAccuracy:  [array(0.978), array(0.9777)]\n",
            "\tIteration  800 :\t J= 0.13199906941459252\t\tAccuracy:  [array(0.9777), array(0.9777)]\n",
            "\tIteration  900 :\t J= 0.13226505743729092\t\tAccuracy:  [array(0.9769), array(0.9774)]\n",
            "\tIteration  1000 :\t J= 0.12070087426364234\t\tAccuracy:  [array(0.9791), array(0.9788)]\n",
            "\tIteration  1100 :\t J= 0.1272553501347631\t\tAccuracy:  [array(0.9794), array(0.9798)]\n",
            "\tIteration  1200 :\t J= 0.12975909545632985\t\tAccuracy:  [array(0.979), array(0.9802)]\n",
            "\tIteration  1300 :\t J= 0.13034761235938996\t\tAccuracy:  [array(0.9787), array(0.9797)]\n",
            "\tIteration  1400 :\t J= 0.1366913365562409\t\tAccuracy:  [array(0.9784), array(0.9772)]\n",
            "\tIteration  1500 :\t J= 0.1240705092771601\t\tAccuracy:  [array(0.9795), array(0.9792)]\n",
            "\tIteration  1600 :\t J= 0.1281725310709223\t\tAccuracy:  [array(0.9809), array(0.9806)]\n",
            "\tIteration  1700 :\t J= 0.13436592149024398\t\tAccuracy:  [array(0.9809), array(0.9806)]\n",
            "\tIteration  1800 :\t J= 0.13907746928382933\t\tAccuracy:  [array(0.9806), array(0.9789)]\n",
            "\tIteration  1900 :\t J= 0.1314071951467845\t\tAccuracy:  [array(0.9809), array(0.9812)]\n",
            "\tIteration  2000 :\t J= 0.14561290803829569\t\tAccuracy:  [array(0.9812), array(0.9813)]\n",
            "\tIteration  2100 :\t J= 0.1389676986434343\t\tAccuracy:  [array(0.9803), array(0.9802)]\n",
            "\tIteration  2200 :\t J= 0.13884832513226966\t\tAccuracy:  [array(0.9802), array(0.9802)]\n",
            "\tIteration  2300 :\t J= 0.13692889006473927\t\tAccuracy:  [array(0.9812), array(0.9818)]\n",
            "\tIteration  2400 :\t J= 0.137083416456709\t\tAccuracy:  [array(0.9805), array(0.981)]\n",
            "\tIteration  2500 :\t J= 0.13781892700664158\t\tAccuracy:  [array(0.9809), array(0.9804)]\n",
            "\tIteration  2600 :\t J= 0.1529051247412676\t\tAccuracy:  [array(0.9807), array(0.9808)]\n",
            "\tIteration  2700 :\t J= 0.15248355894827098\t\tAccuracy:  [array(0.981), array(0.9815)]\n",
            "\tIteration  2800 :\t J= 0.15573477483903791\t\tAccuracy:  [array(0.9818), array(0.982)]\n",
            "\tIteration  2900 :\t J= 0.14357322291248614\t\tAccuracy:  [array(0.9815), array(0.9805)]\n",
            "\tIteration  3000 :\t J= 0.14342273748858486\t\tAccuracy:  [array(0.9814), array(0.9814)]\n",
            "\tIteration  3100 :\t J= 0.1609902213009503\t\tAccuracy:  [array(0.9826), array(0.9821)]\n",
            "\tIteration  3200 :\t J= 0.1555508804940176\t\tAccuracy:  [array(0.9812), array(0.9808)]\n",
            "\tIteration  3300 :\t J= 0.15584761131214545\t\tAccuracy:  [array(0.9809), array(0.9812)]\n",
            "\tIteration  3400 :\t J= 0.15059498339630598\t\tAccuracy:  [array(0.9824), array(0.9824)]\n",
            "\tIteration  3500 :\t J= 0.15331672274839642\t\tAccuracy:  [array(0.982), array(0.9818)]\n",
            "\tIteration  3600 :\t J= 0.1569071737687225\t\tAccuracy:  [array(0.9818), array(0.9821)]\n",
            "\tIteration  3700 :\t J= 0.1687378561079893\t\tAccuracy:  [array(0.9826), array(0.982)]\n",
            "\tIteration  3800 :\t J= 0.15597981175953265\t\tAccuracy:  [array(0.9817), array(0.9821)]\n",
            "\tIteration  3900 :\t J= 0.16545638205488034\t\tAccuracy:  [array(0.9822), array(0.9818)]\n",
            "\tIteration  4000 :\t J= 0.16094924450459433\t\tAccuracy:  [array(0.9819), array(0.9823)]\n",
            "\tIteration  4100 :\t J= 0.16256136839095756\t\tAccuracy:  [array(0.9832), array(0.9821)]\n",
            "\tIteration  4200 :\t J= 0.1697868258438974\t\tAccuracy:  [array(0.9821), array(0.9824)]\n",
            "\tIteration  4300 :\t J= 0.16924719096536756\t\tAccuracy:  [array(0.9819), array(0.9812)]\n",
            "\tIteration  4400 :\t J= 0.16573979818103163\t\tAccuracy:  [array(0.9835), array(0.9829)]\n",
            "\tIteration  4500 :\t J= 0.16617133016948923\t\tAccuracy:  [array(0.9827), array(0.9827)]\n",
            "\tIteration  4600 :\t J= 0.17238584136635007\t\tAccuracy:  [array(0.9818), array(0.9826)]\n",
            "\tIteration  4700 :\t J= 0.17170774202425437\t\tAccuracy:  [array(0.9838), array(0.9826)]\n",
            "\tIteration  4800 :\t J= 0.17207042937671324\t\tAccuracy:  [array(0.9837), array(0.9825)]\n",
            "\tIteration  4900 :\t J= 0.17351041886411742\t\tAccuracy:  [array(0.9826), array(0.983)]\n",
            "\tIteration  5000 :\t J= 0.17508865861281078\t\tAccuracy:  [array(0.9821), array(0.9828)]\n",
            "\tIteration  5100 :\t J= 0.1789304151326373\t\tAccuracy:  [array(0.9835), array(0.9825)]\n",
            "\tIteration  5200 :\t J= 0.1752588652953862\t\tAccuracy:  [array(0.9834), array(0.9823)]\n",
            "\tIteration  5300 :\t J= 0.18339935748082165\t\tAccuracy:  [array(0.9823), array(0.9832)]\n",
            "\tIteration  5400 :\t J= 0.17975676771876936\t\tAccuracy:  [array(0.9823), array(0.9825)]\n",
            "\tIteration  5500 :\t J= 0.17824809484544055\t\tAccuracy:  [array(0.9813), array(0.9814)]\n",
            "\tIteration  5600 :\t J= 0.18260244034922749\t\tAccuracy:  [array(0.9837), array(0.983)]\n",
            "\tIteration  5700 :\t J= 0.18634956959926344\t\tAccuracy:  [array(0.9838), array(0.9829)]\n",
            "\tIteration  5800 :\t J= 0.18085510357370102\t\tAccuracy:  [array(0.984), array(0.9829)]\n",
            "\tIteration  5900 :\t J= 0.18094041482877518\t\tAccuracy:  [array(0.9835), array(0.9835)]\n",
            "\tIteration  6000 :\t J= 0.18559790838467352\t\tAccuracy:  [array(0.9818), array(0.9823)]\n",
            "\tIteration  6100 :\t J= 0.1915852105978727\t\tAccuracy:  [array(0.983), array(0.9835)]\n",
            "\tIteration  6200 :\t J= 0.18759469372540855\t\tAccuracy:  [array(0.9827), array(0.9828)]\n",
            "\tIteration  6300 :\t J= 0.18464205534782094\t\tAccuracy:  [array(0.9835), array(0.9841)]\n",
            "\tIteration  6400 :\t J= 0.18890958051701504\t\tAccuracy:  [array(0.9842), array(0.9838)]\n",
            "\tIteration  6500 :\t J= 0.19225055930765186\t\tAccuracy:  [array(0.9841), array(0.984)]\n",
            "\tIteration  6600 :\t J= 0.19243695026252838\t\tAccuracy:  [array(0.9836), array(0.9837)]\n",
            "\tIteration  6700 :\t J= 0.19243605753480333\t\tAccuracy:  [array(0.985), array(0.9839)]\n",
            "\tIteration  6800 :\t J= 0.19050328085421825\t\tAccuracy:  [array(0.9843), array(0.9847)]\n",
            "\tIteration  6900 :\t J= 0.19316796712755754\t\tAccuracy:  [array(0.9797), array(0.9808)]\n",
            "\tIteration  7000 :\t J= 0.19341126246039766\t\tAccuracy:  [array(0.9852), array(0.9852)]\n",
            "\tIteration  7100 :\t J= 0.19241272449660282\t\tAccuracy:  [array(0.9824), array(0.9824)]\n",
            "\tIteration  7200 :\t J= 0.19449898188408093\t\tAccuracy:  [array(0.9846), array(0.984)]\n",
            "\tIteration  7300 :\t J= 0.19697728436432463\t\tAccuracy:  [array(0.985), array(0.9845)]\n",
            "\tIteration  7400 :\t J= 0.19121284086034335\t\tAccuracy:  [array(0.9853), array(0.9841)]\n",
            "\tIteration  7500 :\t J= 0.19347785817862995\t\tAccuracy:  [array(0.9843), array(0.9844)]\n",
            "\tIteration  7600 :\t J= 0.19358994149440292\t\tAccuracy:  [array(0.9845), array(0.9841)]\n",
            "\tIteration  7700 :\t J= 0.19512635174712692\t\tAccuracy:  [array(0.9835), array(0.983)]\n",
            "\tIteration  7800 :\t J= 0.1958230589651395\t\tAccuracy:  [array(0.9859), array(0.9842)]\n",
            "\tIteration  7900 :\t J= 0.19445192068120323\t\tAccuracy:  [array(0.9837), array(0.984)]\n",
            "\tIteration  8000 :\t J= 0.19678751577701842\t\tAccuracy:  [array(0.9809), array(0.9815)]\n",
            "\tIteration  8100 :\t J= 0.19763510232442888\t\tAccuracy:  [array(0.9846), array(0.9835)]\n",
            "\tIteration  8200 :\t J= 0.19890660639415222\t\tAccuracy:  [array(0.9856), array(0.9851)]\n",
            "\tIteration  8300 :\t J= 0.20040891266719926\t\tAccuracy:  [array(0.9835), array(0.9829)]\n",
            "\tIteration  8400 :\t J= 0.2011657749033057\t\tAccuracy:  [array(0.9819), array(0.9803)]\n",
            "\tIteration  8500 :\t J= 0.19805591513753165\t\tAccuracy:  [array(0.9844), array(0.9845)]\n",
            "\tIteration  8600 :\t J= 0.19799383927445738\t\tAccuracy:  [array(0.9846), array(0.9842)]\n",
            "\tIteration  8700 :\t J= 0.1988301791460345\t\tAccuracy:  [array(0.9842), array(0.9845)]\n",
            "\tIteration  8800 :\t J= 0.19761161507434588\t\tAccuracy:  [array(0.9852), array(0.9837)]\n",
            "\tIteration  8900 :\t J= 0.1976123426061473\t\tAccuracy:  [array(0.9841), array(0.9837)]\n",
            "\tIteration  9000 :\t J= 0.1969320685313979\t\tAccuracy:  [array(0.986), array(0.9855)]\n",
            "\tIteration  9100 :\t J= 0.19626248764601076\t\tAccuracy:  [array(0.9856), array(0.985)]\n",
            "\tIteration  9200 :\t J= 0.19629354755118633\t\tAccuracy:  [array(0.9848), array(0.9841)]\n",
            "\tIteration  9300 :\t J= 0.19561757998084925\t\tAccuracy:  [array(0.9844), array(0.9837)]\n",
            "\tIteration  9400 :\t J= 0.1984571461508994\t\tAccuracy:  [array(0.9849), array(0.9844)]\n",
            "\tIteration  9500 :\t J= 0.20012592532943008\t\tAccuracy:  [array(0.9826), array(0.9845)]\n",
            "\tIteration  9600 :\t J= 0.20057524931197854\t\tAccuracy:  [array(0.9847), array(0.9852)]\n",
            "\tIteration  9700 :\t J= 0.2174298751775883\t\tAccuracy:  [array(0.9852), array(0.9841)]\n",
            "\tIteration  9800 :\t J= 0.20136182103794542\t\tAccuracy:  [array(0.9853), array(0.9855)]\n",
            "\tIteration  9900 :\t J= 0.1980250789525151\t\tAccuracy:  [array(0.9838), array(0.9845)]\n",
            "\tIteration  10000 :\t J= 0.19961632258605647\t\tAccuracy:  [array(0.9856), array(0.9842)]\n",
            "\tIteration  10100 :\t J= 0.1983644328713246\t\tAccuracy:  [array(0.9842), array(0.9822)]\n",
            "\tIteration  10200 :\t J= 0.205499921009905\t\tAccuracy:  [array(0.9852), array(0.9851)]\n",
            "\tIteration  10300 :\t J= 0.20030225588779144\t\tAccuracy:  [array(0.9853), array(0.9841)]\n",
            "\tIteration  10400 :\t J= 0.19692094869028534\t\tAccuracy:  [array(0.9845), array(0.9841)]\n",
            "\tIteration  10500 :\t J= 0.1967765705581196\t\tAccuracy:  [array(0.9841), array(0.9843)]\n",
            "\tIteration  10600 :\t J= 0.1968450233416909\t\tAccuracy:  [array(0.9827), array(0.9838)]\n",
            "\tIteration  10700 :\t J= 0.1984211951243792\t\tAccuracy:  [array(0.9843), array(0.9853)]\n",
            "\tIteration  10800 :\t J= 0.20009722899976673\t\tAccuracy:  [array(0.9857), array(0.9845)]\n",
            "\tIteration  10900 :\t J= 0.20197247169442492\t\tAccuracy:  [array(0.9846), array(0.9823)]\n",
            "\tIteration  11000 :\t J= 0.20093722387838714\t\tAccuracy:  [array(0.9846), array(0.983)]\n",
            "\tIteration  11100 :\t J= 0.19896572798275788\t\tAccuracy:  [array(0.9841), array(0.9828)]\n",
            "\tIteration  11200 :\t J= 0.20193947146664432\t\tAccuracy:  [array(0.9842), array(0.9843)]\n",
            "\tIteration  11300 :\t J= 0.2011241092866763\t\tAccuracy:  [array(0.9831), array(0.9817)]\n",
            "\tIteration  11400 :\t J= 0.19963595777244195\t\tAccuracy:  [array(0.9852), array(0.9843)]\n",
            "\tIteration  11500 :\t J= 0.20264728076419036\t\tAccuracy:  [array(0.9845), array(0.9833)]\n",
            "\tIteration  11600 :\t J= 0.202909560075654\t\tAccuracy:  [array(0.9839), array(0.9842)]\n",
            "\tIteration  11700 :\t J= 0.20211195514544658\t\tAccuracy:  [array(0.9847), array(0.9845)]\n",
            "\tIteration  11800 :\t J= 0.20041756991171494\t\tAccuracy:  [array(0.9854), array(0.9852)]\n",
            "\tIteration  11900 :\t J= 0.2023918489132312\t\tAccuracy:  [array(0.9849), array(0.9842)]\n",
            "\tIteration  12000 :\t J= 0.20864983970673878\t\tAccuracy:  [array(0.985), array(0.985)]\n",
            "\tIteration  12100 :\t J= 0.20291416540764678\t\tAccuracy:  [array(0.986), array(0.9863)]\n",
            "\tIteration  12200 :\t J= 0.2015072472746231\t\tAccuracy:  [array(0.9844), array(0.9841)]\n",
            "\tIteration  12300 :\t J= 0.20349954722253005\t\tAccuracy:  [array(0.9841), array(0.9844)]\n",
            "\tIteration  12400 :\t J= 0.20164036872885763\t\tAccuracy:  [array(0.9837), array(0.9844)]\n",
            "\tIteration  12500 :\t J= 0.20479750612235476\t\tAccuracy:  [array(0.9854), array(0.9836)]\n",
            "\tIteration  12600 :\t J= 0.20171737584206764\t\tAccuracy:  [array(0.9852), array(0.9843)]\n",
            "\tIteration  12700 :\t J= 0.20272148313562494\t\tAccuracy:  [array(0.9853), array(0.9848)]\n",
            "\tIteration  12800 :\t J= 0.20488853144986047\t\tAccuracy:  [array(0.983), array(0.9816)]\n",
            "\tIteration  12900 :\t J= 0.20336542243973285\t\tAccuracy:  [array(0.9849), array(0.9841)]\n",
            "\tIteration  13000 :\t J= 0.2021507538305406\t\tAccuracy:  [array(0.9855), array(0.9846)]\n",
            "\tIteration  13100 :\t J= 0.20226469395808053\t\tAccuracy:  [array(0.9832), array(0.9846)]\n",
            "\tIteration  13200 :\t J= 0.20157876035664893\t\tAccuracy:  [array(0.9855), array(0.9844)]\n",
            "\tIteration  13300 :\t J= 0.20243740316675005\t\tAccuracy:  [array(0.985), array(0.9846)]\n",
            "\tIteration  13400 :\t J= 0.20247008081679835\t\tAccuracy:  [array(0.9845), array(0.9847)]\n",
            "\tIteration  13500 :\t J= 0.20273993723991782\t\tAccuracy:  [array(0.9855), array(0.985)]\n",
            "\tIteration  13600 :\t J= 0.20126529823244818\t\tAccuracy:  [array(0.9838), array(0.9853)]\n",
            "\tIteration  13700 :\t J= 0.2012536577739954\t\tAccuracy:  [array(0.9846), array(0.9843)]\n",
            "\tIteration  13800 :\t J= 0.200619901696123\t\tAccuracy:  [array(0.985), array(0.985)]\n",
            "\tIteration  13900 :\t J= 0.2011368054838465\t\tAccuracy:  [array(0.9847), array(0.9842)]\n",
            "\tIteration  14000 :\t J= 0.20359943659774876\t\tAccuracy:  [array(0.9843), array(0.9838)]\n",
            "\tIteration  14100 :\t J= 0.20170414921314694\t\tAccuracy:  [array(0.983), array(0.9823)]\n",
            "\tIteration  14200 :\t J= 0.20329731975378515\t\tAccuracy:  [array(0.9847), array(0.9848)]\n",
            "\tIteration  14300 :\t J= 0.20280321770898418\t\tAccuracy:  [array(0.9844), array(0.9855)]\n",
            "\tIteration  14400 :\t J= 0.202515242538712\t\tAccuracy:  [array(0.9857), array(0.9858)]\n",
            "\tIteration  14500 :\t J= 0.20110575869881325\t\tAccuracy:  [array(0.9849), array(0.9847)]\n",
            "\tIteration  14600 :\t J= 0.20017081107759485\t\tAccuracy:  [array(0.9858), array(0.9858)]\n",
            "\tIteration  14700 :\t J= 0.20121851503870727\t\tAccuracy:  [array(0.9855), array(0.9845)]\n",
            "\tIteration  14800 :\t J= 0.2002736603993081\t\tAccuracy:  [array(0.9853), array(0.9843)]\n",
            "\tIteration  14900 :\t J= 0.20036838969824214\t\tAccuracy:  [array(0.9846), array(0.9836)]\n",
            "\tIteration  15000 :\t J= 0.20079615263141024\t\tAccuracy:  [array(0.9844), array(0.9831)]\n",
            "\tIteration  15100 :\t J= 0.20344552528249346\t\tAccuracy:  [array(0.9852), array(0.9842)]\n",
            "\tIteration  15200 :\t J= 0.20254643939494843\t\tAccuracy:  [array(0.9846), array(0.9845)]\n",
            "\tIteration  15300 :\t J= 0.2094610599508103\t\tAccuracy:  [array(0.9845), array(0.9845)]\n",
            "\tIteration  15400 :\t J= 0.20476146146247928\t\tAccuracy:  [array(0.9827), array(0.9822)]\n",
            "\tIteration  15500 :\t J= 0.20359633383256998\t\tAccuracy:  [array(0.9845), array(0.9849)]\n",
            "\tIteration  15600 :\t J= 0.20370560149904146\t\tAccuracy:  [array(0.9853), array(0.9846)]\n",
            "\tIteration  15700 :\t J= 0.20335333729968524\t\tAccuracy:  [array(0.9852), array(0.9843)]\n",
            "\tIteration  15800 :\t J= 0.20251282091471765\t\tAccuracy:  [array(0.9844), array(0.9836)]\n",
            "\tIteration  15900 :\t J= 0.20221577739169777\t\tAccuracy:  [array(0.9852), array(0.9844)]\n",
            "\tIteration  16000 :\t J= 0.20621407149102558\t\tAccuracy:  [array(0.9823), array(0.9812)]\n",
            "\tIteration  16100 :\t J= 0.20346563375766683\t\tAccuracy:  [array(0.9855), array(0.9849)]\n",
            "\tIteration  16200 :\t J= 0.20340285598763672\t\tAccuracy:  [array(0.9856), array(0.9852)]\n",
            "\tIteration  16300 :\t J= 0.20313814613975242\t\tAccuracy:  [array(0.985), array(0.9845)]\n",
            "\tIteration  16400 :\t J= 0.204785882699876\t\tAccuracy:  [array(0.9856), array(0.9846)]\n",
            "\tIteration  16500 :\t J= 0.20313166716649478\t\tAccuracy:  [array(0.9846), array(0.9848)]\n",
            "\tIteration  16600 :\t J= 0.20169483729109186\t\tAccuracy:  [array(0.9833), array(0.9822)]\n",
            "\tIteration  16700 :\t J= 0.20300230650448195\t\tAccuracy:  [array(0.9859), array(0.9845)]\n",
            "\tIteration  16800 :\t J= 0.2015245477794966\t\tAccuracy:  [array(0.9854), array(0.9851)]\n",
            "\tIteration  16900 :\t J= 0.20226347251554247\t\tAccuracy:  [array(0.9824), array(0.9809)]\n",
            "\tIteration  17000 :\t J= 0.20303011237535998\t\tAccuracy:  [array(0.9827), array(0.9831)]\n"
          ],
          "name": "stdout"
        }
      ]
    },
    {
      "cell_type": "markdown",
      "metadata": {
        "id": "UpOKlsAlJlRx",
        "colab_type": "text"
      },
      "source": [
        "**Some logs**\n",
        "LOGS10000 - 10k iterations\n",
        "\n",
        "LOGS1 and LOGS are for 1000 iterations\n",
        "\n",
        "softmax function factors were changed in middle to check affect n accuracy. keep_prob and reg_param were changed in middle. learning_decay was also tried.\n"
      ]
    },
    {
      "cell_type": "code",
      "metadata": {
        "id": "UQfdPxXHMObq",
        "colab_type": "code",
        "colab": {}
      },
      "source": [
        "logs = [[reg_param,keep_prob],acc]\n",
        "LOGS10000.append(logs)"
      ],
      "execution_count": 0,
      "outputs": []
    },
    {
      "cell_type": "code",
      "metadata": {
        "id": "aloXLjEc2Ac4",
        "colab_type": "code",
        "colab": {
          "base_uri": "https://localhost:8080/",
          "height": 119
        },
        "outputId": "946ea87c-2082-4b2c-e6ff-433be00cc052"
      },
      "source": [
        "LOGS10000"
      ],
      "execution_count": 39,
      "outputs": [
        {
          "output_type": "execute_result",
          "data": {
            "text/plain": [
              "[[[{'reg_fact_11': 1.19,\n",
              "    'reg_fact_12': 1.05,\n",
              "    'reg_fact_2': 1.07,\n",
              "    'reg_fact_3': 2.22},\n",
              "   {'keep_prob_11': 0.9, 'keep_prob_12': 1.07, 'keep_prob_2': 0.95}],\n",
              "  [array(0.9857), array(0.9843)]]]"
            ]
          },
          "metadata": {
            "tags": []
          },
          "execution_count": 39
        }
      ]
    },
    {
      "cell_type": "code",
      "metadata": {
        "id": "RsGw8mUszjSY",
        "colab_type": "code",
        "outputId": "109dacd3-b7b9-4ef3-d02d-5e5e3aba246f",
        "colab": {
          "base_uri": "https://localhost:8080/",
          "height": 119
        }
      },
      "source": [
        "LOGS1"
      ],
      "execution_count": 0,
      "outputs": [
        {
          "output_type": "execute_result",
          "data": {
            "text/plain": [
              "[[[{'reg_fact_11': 1.19,\n",
              "    'reg_fact_12': 1.05,\n",
              "    'reg_fact_2': 1.31,\n",
              "    'reg_fact_3': 2.22},\n",
              "   {'keep_prob_11': 0.9, 'keep_prob_12': 0.86, 'keep_prob_2': 0.95}],\n",
              "  [array(0.9786), array(0.9787)]]]"
            ]
          },
          "metadata": {
            "tags": []
          },
          "execution_count": 47
        }
      ]
    },
    {
      "cell_type": "code",
      "metadata": {
        "id": "ezezrBPVvWEY",
        "colab_type": "code",
        "outputId": "9de6e23b-b0bf-42fd-b5c3-5d09726196d7",
        "colab": {
          "base_uri": "https://localhost:8080/",
          "height": 629
        }
      },
      "source": [
        "LOGS.append('adding rate decay (1/sqrt(epoch))')\n",
        "LOGS"
      ],
      "execution_count": 0,
      "outputs": [
        {
          "output_type": "execute_result",
          "data": {
            "text/plain": [
              "[[{'reg_fact_11': 1.19,\n",
              "   'reg_fact_12': 1.05,\n",
              "   'reg_fact_2': 1.2,\n",
              "   'reg_fact_3': 1.2},\n",
              "  [array(0.9761), array(0.9752)]],\n",
              " [[{'reg_fact_11': 1.19,\n",
              "    'reg_fact_12': 1.05,\n",
              "    'reg_fact_2': 1.2,\n",
              "    'reg_fact_3': 1.2},\n",
              "   {'keep_prob_11': 0.93, 'keep_prob_12': 0.87, 'keep_prob_2': 0.95}],\n",
              "  [array(0.9823), array(0.9813)]],\n",
              " [[{'reg_fact_11': 1.19,\n",
              "    'reg_fact_12': 1.05,\n",
              "    'reg_fact_2': 1.01,\n",
              "    'reg_fact_3': 1.2},\n",
              "   {'keep_prob_11': 0.85, 'keep_prob_12': 0.87, 'keep_prob_2': 0.92}],\n",
              "  [array(0.9815), array(0.9814)]],\n",
              " [[{'reg_fact_11': 1.19,\n",
              "    'reg_fact_12': 1.05,\n",
              "    'reg_fact_2': 1.11,\n",
              "    'reg_fact_3': 1.2},\n",
              "   {'keep_prob_11': 0.91, 'keep_prob_12': 0.87, 'keep_prob_2': 0.92}],\n",
              "  [array(0.9826), array(0.9814)]],\n",
              " 'changing softmax coeff from 5 to 1',\n",
              " [[{'reg_fact_11': 1.19,\n",
              "    'reg_fact_12': 1.05,\n",
              "    'reg_fact_2': 1.11,\n",
              "    'reg_fact_3': 1.2},\n",
              "   {'keep_prob_11': 0.91, 'keep_prob_12': 0.87, 'keep_prob_2': 0.92}],\n",
              "  [array(0.9835), array(0.9836)]],\n",
              " [[{'reg_fact_11': 1.19,\n",
              "    'reg_fact_12': 1.05,\n",
              "    'reg_fact_2': 1.11,\n",
              "    'reg_fact_3': 1.2},\n",
              "   {'keep_prob_11': 0.91, 'keep_prob_12': 0.87, 'keep_prob_2': 0.95}],\n",
              "  [array(0.9842), array(0.984)]]]"
            ]
          },
          "metadata": {
            "tags": []
          },
          "execution_count": 71
        }
      ]
    },
    {
      "cell_type": "markdown",
      "metadata": {
        "id": "SS1eS3JQMSNH",
        "colab_type": "text"
      },
      "source": [
        ""
      ]
    },
    {
      "cell_type": "code",
      "metadata": {
        "id": "FVPwwUpuWdqk",
        "colab_type": "code",
        "outputId": "4f5b3d8c-fcea-4052-e8f3-2077b0798afc",
        "colab": {
          "base_uri": "https://localhost:8080/",
          "height": 408
        }
      },
      "source": [
        "LOGS"
      ],
      "execution_count": 0,
      "outputs": [
        {
          "output_type": "execute_result",
          "data": {
            "text/plain": [
              "[[{'reg_fact_11': 1.19,\n",
              "   'reg_fact_12': 1.05,\n",
              "   'reg_fact_2': 1.2,\n",
              "   'reg_fact_3': 1.2},\n",
              "  [array(0.9761), array(0.9752)]],\n",
              " [[{'reg_fact_11': 1.19,\n",
              "    'reg_fact_12': 1.05,\n",
              "    'reg_fact_2': 1.2,\n",
              "    'reg_fact_3': 1.2},\n",
              "   {'keep_prob_11': 0.93, 'keep_prob_12': 0.87, 'keep_prob_2': 0.95}],\n",
              "  [array(0.9823), array(0.9813)]],\n",
              " [[{'reg_fact_11': 1.19,\n",
              "    'reg_fact_12': 1.05,\n",
              "    'reg_fact_2': 1.01,\n",
              "    'reg_fact_3': 1.2},\n",
              "   {'keep_prob_11': 0.85, 'keep_prob_12': 0.87, 'keep_prob_2': 0.92}],\n",
              "  [array(0.9815), array(0.9814)]],\n",
              " [[{'reg_fact_11': 1.19,\n",
              "    'reg_fact_12': 1.05,\n",
              "    'reg_fact_2': 1.11,\n",
              "    'reg_fact_3': 1.2},\n",
              "   {'keep_prob_11': 0.91, 'keep_prob_12': 0.87, 'keep_prob_2': 0.92}],\n",
              "  [array(0.9826), array(0.9814)]]]"
            ]
          },
          "metadata": {
            "tags": []
          },
          "execution_count": 63
        }
      ]
    },
    {
      "cell_type": "markdown",
      "metadata": {
        "id": "jEfmra5IMSVc",
        "colab_type": "text"
      },
      "source": [
        "**Val and Test data prediction**"
      ]
    },
    {
      "cell_type": "code",
      "metadata": {
        "id": "WAvU2ReW1dqE",
        "colab_type": "code",
        "outputId": "5b9769e5-194f-4a95-a24c-6e6dfe954f12",
        "colab": {
          "base_uri": "https://localhost:8080/",
          "height": 34
        }
      },
      "source": [
        "ans,_,__ = fwd_prop(X_val,Y_val,W11,b11,W12,b12,W2,b2,W3,b3)\n",
        "ans = np.argmax(ans,axis=0)\n",
        "np.mean((ans==y_val).astype(int))"
      ],
      "execution_count": 0,
      "outputs": [
        {
          "output_type": "execute_result",
          "data": {
            "text/plain": [
              "0.9707"
            ]
          },
          "metadata": {
            "tags": []
          },
          "execution_count": 91
        }
      ]
    },
    {
      "cell_type": "code",
      "metadata": {
        "id": "yGaxMdj2hHFl",
        "colab_type": "code",
        "outputId": "87a06f8b-d607-4db0-e0ce-2898c3af34ba",
        "colab": {
          "base_uri": "https://localhost:8080/",
          "height": 34
        }
      },
      "source": [
        "ans1,_,__ = fwd_prop(X_test,Y_test,W11,b11,W12,b12,W2,b2,W3,b3)\n",
        "ans1 = np.argmax(ans1,axis=0)\n",
        "np.mean((ans1==y_test).astype(int))"
      ],
      "execution_count": 0,
      "outputs": [
        {
          "output_type": "execute_result",
          "data": {
            "text/plain": [
              "0.9699"
            ]
          },
          "metadata": {
            "tags": []
          },
          "execution_count": 92
        }
      ]
    },
    {
      "cell_type": "markdown",
      "metadata": {
        "id": "Ba4fkqbKKQa0",
        "colab_type": "text"
      },
      "source": [
        "Import time if required..."
      ]
    },
    {
      "cell_type": "code",
      "metadata": {
        "id": "a32XW3jWZLZW",
        "colab_type": "code",
        "colab": {}
      },
      "source": [
        "import time"
      ],
      "execution_count": 0,
      "outputs": []
    }
  ]
}