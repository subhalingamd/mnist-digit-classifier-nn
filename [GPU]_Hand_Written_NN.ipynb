{
  "nbformat": 4,
  "nbformat_minor": 0,
  "metadata": {
    "colab": {
      "name": "Copy of [FINAL]_[GPU] Copy of [97+] Copy of Copy of Hand Written - NN.ipynb",
      "provenance": [],
      "collapsed_sections": [],
      "mount_file_id": "1va4Pw2U7-jeSHY0Nz7H2lfxanAQVN1x0",
      "authorship_tag": "ABX9TyMlgmhDAReMhv0QK/2wlS2a"
    },
    "kernelspec": {
      "name": "python3",
      "display_name": "Python 3"
    },
    "accelerator": "GPU"
  },
  "cells": [
    {
      "cell_type": "markdown",
      "metadata": {
        "id": "SSPVeIIOKaVx",
        "colab_type": "text"
      },
      "source": [
        "# MNIST dataset - Neural Netowrk \n",
        "Built the neural network from scratch... Got an accuracy upto 98.5% (without minibatches)\n",
        "\n",
        "*> **Note:** `cupy` is simalar to 'numpy' with GPU support*\n",
        "\n",
        "**Net Schema:** INP(784) -> [RELU(128) + tanh(64)](192) -> RELU(48)) -> softmax(10)  with regularisation, inverted dropout, etc.\n",
        "\n",
        "*This is not a formal documentation!*"
      ]
    },
    {
      "cell_type": "markdown",
      "metadata": {
        "id": "CzTFMrC9Vnm_",
        "colab_type": "text"
      },
      "source": [
        "**Import libraries**"
      ]
    },
    {
      "cell_type": "code",
      "metadata": {
        "id": "OMcybnyoHUNZ",
        "colab_type": "code",
        "colab": {}
      },
      "source": [
        "import cupy as np\n",
        "import matplotlib.pyplot as plt"
      ],
      "execution_count": 0,
      "outputs": []
    },
    {
      "cell_type": "markdown",
      "metadata": {
        "id": "OGnv7DDAVV96",
        "colab_type": "text"
      },
      "source": [
        "**Import Dataset**\n",
        "\n",
        "*Change the path!*"
      ]
    },
    {
      "cell_type": "code",
      "metadata": {
        "id": "lptO7tyua2Aa",
        "colab_type": "code",
        "colab": {}
      },
      "source": [
        "import gzip, pickle\n",
        "with gzip.open('/content/drive/My Drive/colab/mnist.pkl.gz','rb') as ff :\n",
        "  u = pickle._Unpickler( ff )\n",
        "  u.encoding = 'latin1'\n",
        "  train, val, test = u.load()"
      ],
      "execution_count": 0,
      "outputs": []
    },
    {
      "cell_type": "markdown",
      "metadata": {
        "id": "Ep2Ewf5fgoCA",
        "colab_type": "text"
      },
      "source": [
        "**Minor changes to dataset**"
      ]
    },
    {
      "cell_type": "code",
      "metadata": {
        "id": "YTvjCsDNbi63",
        "colab_type": "code",
        "colab": {}
      },
      "source": [
        "X_train = train[0].T\n",
        "y_train = train[1].reshape(1,train[1].shape[0])\n",
        "\n",
        "X_val = val[0].T\n",
        "y_val = val[1].reshape(1,val[1].shape[0])\n",
        "\n",
        "X_test = test[0].T\n",
        "y_test = test[1].reshape(1,test[1].shape[0])\n",
        "\n",
        "Y_train = np.zeros((10,y_train.shape[1]))\n",
        "Y_val = np.zeros((10,y_val.shape[1]))\n",
        "Y_test = np.zeros((10,y_test.shape[1]))\n",
        "\n",
        "Y_train[y_train,np.arange(y_train.shape[1])]=1\n",
        "Y_val[y_val,np.arange(y_val.shape[1])]=1\n",
        "Y_test[y_test,np.arange(y_test.shape[1])]=1"
      ],
      "execution_count": 0,
      "outputs": []
    },
    {
      "cell_type": "code",
      "metadata": {
        "id": "shfNzs3gTweL",
        "colab_type": "code",
        "colab": {}
      },
      "source": [
        "X_train = np.array(X_train)\n",
        "y_train = np.array(y_train)\n",
        "Y_train = np.array(Y_train)\n",
        "\n",
        "X_val = np.array(X_val)\n",
        "y_val = np.array(y_val)\n",
        "Y_val = np.array(Y_val)\n",
        "\n",
        "X_test = np.array(X_test)\n",
        "y_test = np.array(y_test)\n",
        "Y_test = np.array(Y_test)"
      ],
      "execution_count": 0,
      "outputs": []
    },
    {
      "cell_type": "markdown",
      "metadata": {
        "id": "ALKg1yh8eW6r",
        "colab_type": "text"
      },
      "source": [
        "**Useful methods**"
      ]
    },
    {
      "cell_type": "code",
      "metadata": {
        "id": "ewfe0bpcebQM",
        "colab_type": "code",
        "colab": {}
      },
      "source": [
        "def tanh(X):\n",
        "  return (np.exp(X)-np.exp(-X))/(np.exp(X)+np.exp(-X))\n",
        "\n",
        "def tanh_(X):\n",
        "  return 1-tanh(X)**2\n",
        "\n",
        "def relu(X):\n",
        "  return np.maximum(0,X)\n",
        "\n",
        "def relu_(X):\n",
        "  return (X>0).astype(int)\n",
        "\n",
        "\n",
        "def softmax(X):\n",
        "    expo = np.exp(X)\n",
        "    expo_sum = np.sum(np.exp(X),axis=0,keepdims=True)\n",
        "    return expo/expo_sum"
      ],
      "execution_count": 0,
      "outputs": []
    },
    {
      "cell_type": "markdown",
      "metadata": {
        "id": "Wg-S73AqzfC_",
        "colab_type": "text"
      },
      "source": [
        "**Initialise parameters**\n",
        "\n",
        "Used Xavier & He's method for weights and zeros for biases"
      ]
    },
    {
      "cell_type": "code",
      "metadata": {
        "id": "kfd7ubXS2HmB",
        "colab_type": "code",
        "colab": {}
      },
      "source": [
        "def init_param():\n",
        "  np.random.seed(4)\n",
        "  \n",
        "  W11 = np.random.randn(128,784) * np.sqrt(2/784)\n",
        "  b11 = np.zeros((128,1))\n",
        "  # b11 = np.random.randn(128,1) * np.sqrt(1/784)\n",
        "  \n",
        "  W12 = np.random.randn(64,784) * np.sqrt(2/784)\n",
        "  b12 = np.zeros((64,1))\n",
        "  # b12 = np.random.randn(64,1) * np.sqrt(1/784)\n",
        "  \n",
        "  W2 = np.random.randn(48,192) * np.sqrt(1/192)\n",
        "  b2 = np.zeros((48,1))\n",
        "  # b2 = np.random.randn(48,1) * np.sqrt(1/192)\n",
        "  \n",
        "  W3 = np.random.randn(10,48) * np.sqrt(2/48)\n",
        "  b3 = np.zeros((10,1))\n",
        "  # b3 = np.random.randn(10,1) * np.sqrt(1/48)\n",
        "\n",
        "  np.cuda.Stream.null.synchronize()\n",
        "\n",
        "  return W11,b11,W12,b12,W2,b2,W3,b3"
      ],
      "execution_count": 0,
      "outputs": []
    },
    {
      "cell_type": "markdown",
      "metadata": {
        "id": "htztscXLH_L0",
        "colab_type": "text"
      },
      "source": [
        "**Forward prop**\n",
        "\n",
        "[RELU tanh] -> RELU -> softmax\n",
        "\n",
        "  [128 64]  -> [48] ->   [10]"
      ]
    },
    {
      "cell_type": "code",
      "metadata": {
        "id": "BXpOCMVw2Y1U",
        "colab_type": "code",
        "colab": {}
      },
      "source": [
        "def fwd_prop(X,Y,W11,b11,W12,b12,W2,b2,W3,b3,keep_prob_11=1,keep_prob_12=1,keep_prob_2=1,reg_fact_3=1.2,reg_fact_2=1.2,reg_fact_12=0.9,reg_fact_11=1.2,epsilon=10e-8):\n",
        "  m = X.shape[1]\n",
        "  A11_,A12_,A2_=0,0,0\n",
        "\n",
        "  Z11 = np.dot(W11,X) + b11\n",
        "  Z12 = np.dot(W12,X) + b12\n",
        "  np.cuda.Stream.null.synchronize()\n",
        "  \n",
        "  A11 = relu(Z11)\n",
        "  A12 = tanh(Z12)\n",
        "  np.cuda.Stream.null.synchronize()\n",
        "\n",
        "  if keep_prob_11 < 1:\n",
        "    A11_ = np.random.rand(A11.shape[0],1)\n",
        "    np.cuda.Stream.null.synchronize()\n",
        "    A11_ = A11_<keep_prob_11\n",
        "    np.cuda.Stream.null.synchronize()\n",
        "    A11 = np.multiply(A11_,A11)\n",
        "    np.cuda.Stream.null.synchronize()\n",
        "    A11 /= keep_prob_11\n",
        "    np.cuda.Stream.null.synchronize()\n",
        "\n",
        "  if keep_prob_12 < 1:\n",
        "    A12_ = np.random.rand(A12.shape[0],1)\n",
        "    np.cuda.Stream.null.synchronize()\n",
        "    A12_ = A12_<keep_prob_12\n",
        "    np.cuda.Stream.null.synchronize()\n",
        "    A12 = np.multiply(A12_,A12)\n",
        "    np.cuda.Stream.null.synchronize()\n",
        "    A12 /= keep_prob_12\n",
        "\n",
        "  A1 = np.concatenate((A11,A12))\n",
        "  np.cuda.Stream.null.synchronize()\n",
        "\n",
        "  Z2 = np.dot(W2,A1) + b2\n",
        "  np.cuda.Stream.null.synchronize()\n",
        "  A2 = relu(Z2)\n",
        "  np.cuda.Stream.null.synchronize()\n",
        "\n",
        "  if keep_prob_2 < 1:\n",
        "    A2_ = np.random.rand(A2.shape[0],1)\n",
        "    np.cuda.Stream.null.synchronize()\n",
        "    A2_ = A2_<keep_prob_2\n",
        "    np.cuda.Stream.null.synchronize()\n",
        "    A2 = np.multiply(A2_,A2)\n",
        "    np.cuda.Stream.null.synchronize()\n",
        "    A2 /= keep_prob_2\n",
        "\n",
        "  Z3 = np.dot(W3,A2) + b3\n",
        "  np.cuda.Stream.null.synchronize()\n",
        "  A3 = softmax(Z3)\n",
        "  np.cuda.Stream.null.synchronize()\n",
        "\n",
        "  #reg_fact_11 = reg_fact_12 = reg_fact_2 = reg_fact_3 = 0.5 \n",
        "  cross_entropy = -np.sum(Y*np.log(A3+epsilon))/m\n",
        "  reg = (reg_fact_3*np.mean(W3**2)+reg_fact_2*np.mean(W2**2)+reg_fact_12*np.mean(W12**2)+reg_fact_11*np.mean(W11**2))/2\n",
        "  np.cuda.Stream.null.synchronize()\n",
        "\n",
        "  J = cross_entropy + reg\n",
        "  np.cuda.Stream.null.synchronize()\n",
        "\n",
        "  cache = []\n",
        "  cache.append(A3)\n",
        "  cache.append(A2)\n",
        "  cache.append(A12)\n",
        "  cache.append(A11)\n",
        "  cache.append(Z3)\n",
        "  cache.append(Z2)\n",
        "  cache.append(Z12)\n",
        "  cache.append(Z11)\n",
        "\n",
        "  cache.append(A2_)\n",
        "  cache.append(A12_)\n",
        "  cache.append(A11_)\n",
        "\n",
        "  \n",
        "\n",
        "\n",
        "  return A3,J,cache"
      ],
      "execution_count": 0,
      "outputs": []
    },
    {
      "cell_type": "markdown",
      "metadata": {
        "id": "G0oiwBM6IgfK",
        "colab_type": "text"
      },
      "source": [
        "**Back Prop**"
      ]
    },
    {
      "cell_type": "code",
      "metadata": {
        "id": "5C4cdH9p2Y-J",
        "colab_type": "code",
        "colab": {}
      },
      "source": [
        "def bck_prop(X,Y,W11,W12,W2,W3,cache,keep_prob_11=1,keep_prob_12=1,keep_prob_2=1,reg_fact_3=1.2,reg_fact_2=1.2,reg_fact_12=0.9,reg_fact_11=1.2):\n",
        "  A3 = cache[0]\n",
        "  A2 = cache[1]\n",
        "  A12 = cache[2]\n",
        "  A11 = cache[3]\n",
        "  Z3 = cache[4]\n",
        "  Z2 = cache[5]\n",
        "  Z12 = cache[6]\n",
        "  Z11 = cache[7]\n",
        "\n",
        "  A2_ = cache[8]\n",
        "  A12_ = cache[9]\n",
        "  A11_ = cache[10]\n",
        "\n",
        "\n",
        "  # reg_fact_11 = reg_fact_12 = reg_fact_2 = reg_fact_3 = 0.5 \n",
        "\n",
        "  A1 = np.concatenate((A11,A12))\n",
        "\n",
        "  m = X.shape[1]\n",
        "\n",
        "  dZ3 = A3-Y\n",
        "  np.cuda.Stream.null.synchronize()\n",
        "  \n",
        "  dW3 = np.dot(dZ3,A2.T)/m\n",
        "  db3 = np.sum(dZ3,axis=1,keepdims=True)/m\n",
        "\n",
        "  dZ2 = np.dot(W3.T,dZ3)*relu_(Z2)\n",
        "  \n",
        "  np.cuda.Stream.null.synchronize()\n",
        "\n",
        "  if keep_prob_2 < 1:\n",
        "    dZ2 = np.multiply(dZ2,A2_)/keep_prob_2\n",
        "  \n",
        "  np.cuda.Stream.null.synchronize()\n",
        "  \n",
        "  dW2 = np.dot(dZ2,A1.T)/m\n",
        "  db2 = np.sum(dZ2,axis=1,keepdims=True)/m\n",
        "\n",
        "  dZ12 = np.dot(W2.T,dZ2)[Z11.shape[0]:,:]*tanh_(Z12)\n",
        "  dZ11 = np.dot(W2.T,dZ2)[0:Z11.shape[0],:]*relu_(Z11)\n",
        "  \n",
        "  np.cuda.Stream.null.synchronize()\n",
        "\n",
        "  if keep_prob_12 < 1:\n",
        "    dZ12 = np.multiply(dZ12,A12_)/keep_prob_12\n",
        "    \n",
        "  if keep_prob_11 < 1:\n",
        "    dZ11 = np.multiply(dZ11,A11_)/keep_prob_11\n",
        "  \n",
        "  np.cuda.Stream.null.synchronize()\n",
        "  \n",
        "\n",
        "  dW12 = np.dot(dZ12,X.T)/m\n",
        "  db12 = np.sum(dZ12,axis=1,keepdims=True)/m\n",
        "\n",
        "  dW11 = np.dot(dZ11,X.T)/m\n",
        "  db11 = np.sum(dZ11,axis=1,keepdims=True)/m\n",
        "\n",
        "  np.cuda.Stream.null.synchronize()\n",
        "\n",
        "\n",
        "  dW11 += reg_fact_11 * W11 /m\n",
        "  dW12 += reg_fact_12 * W12 /m\n",
        "  dW2 += reg_fact_2 * W2 /m\n",
        "  dW3 += reg_fact_3 * W3 /m\n",
        "\n",
        "  np.cuda.Stream.null.synchronize()\n",
        "\n",
        "  return dW11,db11,dW12,db12,dW2,db2,dW3,db3"
      ],
      "execution_count": 0,
      "outputs": []
    },
    {
      "cell_type": "markdown",
      "metadata": {
        "id": "2fI91HuHInFB",
        "colab_type": "text"
      },
      "source": [
        "**A step in Adam-*like* optimser**\n",
        "\n",
        "Does NOT include the scaling factor"
      ]
    },
    {
      "cell_type": "code",
      "metadata": {
        "id": "GX-Ed4MJ4Ajj",
        "colab_type": "code",
        "colab": {}
      },
      "source": [
        "def Adam_step(X,v,s,dX,i,learn_rate,beta1,beta2,epsilon):\n",
        "  v = beta1*v + (1-beta1)*dX\n",
        "  s = beta2*s + (1-beta2)*(dX**2)\n",
        "\n",
        "  np.cuda.Stream.null.synchronize()\n",
        "\n",
        "  #v_ = v/(1-(beta1)**i)\n",
        "  #s_ = s/(1-(beta2)**i)\n",
        "\n",
        "  #X-=learn_rate*v\n",
        "  X -= (learn_rate * v / (np.sqrt(s)+epsilon))\n",
        "  np.cuda.Stream.null.synchronize()\n",
        "\n",
        "  return X,v,s\n"
      ],
      "execution_count": 0,
      "outputs": []
    },
    {
      "cell_type": "markdown",
      "metadata": {
        "id": "oK6xGcvZI2tC",
        "colab_type": "text"
      },
      "source": [
        "**Train model**\n",
        "\n",
        "Also check accuracy at each 100 steps"
      ]
    },
    {
      "cell_type": "code",
      "metadata": {
        "id": "WflAx-U4znuc",
        "colab_type": "code",
        "colab": {}
      },
      "source": [
        "def train_model(X,Y,learn_rate=0.001,iter=1000,reg_fact_3=1.2,reg_fact_2=1.2,reg_fact_12=1.05,reg_fact_11=1.19,keep_prob_11=0.93,keep_prob_12=0.93,keep_prob_2=0.95,beta1=0.9,beta2=0.999,epsilon=10e-8):\n",
        "  W11,b11,W12,b12,W2,b2,W3,b3 = init_param()  \n",
        "  np.cuda.Stream.null.synchronize()  \n",
        "   \n",
        "  #W11,b11,W12,b12,W2,b2,W3,b3 = upd_param(W11,b11,W12,b12,W2,b2,W3,b3,dW11,db11,dW12,db12,dW2,db2,dW3,db3,learn_rate=learn_rate)\n",
        "\n",
        "  J_t = 10000\n",
        "\n",
        "  J=10000\n",
        "  v_dW11,v_dW12,v_dW2,v_dW3,v_db11,v_db12,v_db2,v_db3,s_dW11,s_dW12,s_dW2,s_dW3,s_db11,s_db12,s_db2,s_db3 = 0,0,0,0,0,0,0,0,0,0,0,0,0,0,0,0\n",
        "\n",
        "\n",
        "  for i in range(iter):\n",
        "\n",
        "    J_t = J\n",
        "\n",
        "    _,J,cache = fwd_prop(X_train,Y_train,W11,b11,W12,b12,W2,b2,W3,b3,keep_prob_11=keep_prob_11,keep_prob_12=keep_prob_12,keep_prob_2=keep_prob_2,reg_fact_3=reg_fact_3,reg_fact_2=reg_fact_2,reg_fact_12=reg_fact_12,reg_fact_11=reg_fact_11)\n",
        "    np.cuda.Stream.null.synchronize()\n",
        "\n",
        "    dW11,db11,dW12,db12,dW2,db2,dW3,db3 = bck_prop(X_train,Y_train,W11,W12,W2,W3,cache,keep_prob_11=keep_prob_11,keep_prob_12=keep_prob_12,keep_prob_2=keep_prob_2,reg_fact_3=reg_fact_3,reg_fact_2=reg_fact_2,reg_fact_12=reg_fact_12,reg_fact_11=reg_fact_11)\n",
        "    np.cuda.Stream.null.synchronize()\n",
        "\n",
        "    '''\n",
        "    W11 -= learn_rate * dW11\n",
        "    b11 -= learn_rate * db11\n",
        "    W12 -= learn_rate * dW12\n",
        "    b12 -= learn_rate * db12\n",
        "    W2 -= learn_rate * dW2\n",
        "    b2 -= learn_rate * db2\n",
        "    W3 -= learn_rate * dW3\n",
        "    b3 -= learn_rate * db3\n",
        "    '''\n",
        "    #if (i%1000==0):\n",
        "    #  learn_rate*=np.sqrt(1/((i//1000)+1))\n",
        "\n",
        "    W11,v_dW11,s_dW11 = Adam_step(W11,v_dW11,s_dW11,dW11,i+1,learn_rate,beta1,beta2,epsilon)\n",
        "    W12,v_dW12,s_dW12 = Adam_step(W12,v_dW12,s_dW12,dW12,i+1,learn_rate,beta1,beta2,epsilon)\n",
        "    W2,v_dW2,s_dW2 = Adam_step(W2,v_dW2,s_dW2,dW2,i+1,learn_rate,beta1,beta2,epsilon)\n",
        "    W3,v_dW3,s_dW3 = Adam_step(W3,v_dW3,s_dW3,dW3,i+1,learn_rate,beta1,beta2,epsilon)\n",
        "\n",
        "    b11,v_db11,s_db11 = Adam_step(b11,v_db11,s_db11,db11,i+1,learn_rate,beta1,beta2,epsilon)\n",
        "    b12,v_db12,s_db12 = Adam_step(b12,v_db12,s_db12,db12,i+1,learn_rate,beta1,beta2,epsilon)\n",
        "    b2,v_db2,s_db2 = Adam_step(b2,v_db2,s_db2,db2,i+1,learn_rate,beta1,beta2,epsilon)\n",
        "    b3,v_db3,s_db3 = Adam_step(b3,v_db3,s_db3,db3,i+1,learn_rate,beta1,beta2,epsilon)\n",
        "    \n",
        "\n",
        "    np.cuda.Stream.null.synchronize()\n",
        "\n",
        "    #if J>J_t:\n",
        "      #print(\"\\t\\t Warning!! J exceeded prev value\")\n",
        "      #print(\"\\t\\tWarning at \",i,':\\t J=',J,'exceeded previous value \\t [ J_prev =',J_t,']')\n",
        "      #break\n",
        "    \n",
        "    if i%1000==0:\n",
        "      reg_fact_11*=np.sqrt(i/1000+2)/2\n",
        "      reg_fact_12*=np.sqrt(i/1000+2)/2\n",
        "      reg_fact_2*=np.sqrt(i/1000+2)/2\n",
        "      reg_fact_3*=np.sqrt(i/1000+2)/2\n",
        "    '''\n",
        "\n",
        "\n",
        "    if i%1000==0:\n",
        "      learn_rate*=np.exp(-(i/1000))\n",
        "    '''\n",
        "    if i%50==0:\n",
        "      print(\"\\tIteration \",i,':\\t J=',J,end='\\t\\t')\n",
        "      ans,_,__ = fwd_prop(X_train,Y_train,W11,b11,W12,b12,W2,b2,W3,b3)\n",
        "      ans1,_,__ = fwd_prop(X_val,Y_val,W11,b11,W12,b12,W2,b2,W3,b3)\n",
        "      ans2,_,__ = fwd_prop(X_test,Y_test,W11,b11,W12,b12,W2,b2,W3,b3)\n",
        "      np.cuda.Stream.null.synchronize()\n",
        "\n",
        "      ans = np.argmax(ans,axis=0)\n",
        "      ans1 = np.argmax(ans1,axis=0)\n",
        "      ans2 = np.argmax(ans2,axis=0)\n",
        "      np.cuda.Stream.null.synchronize()\n",
        "\n",
        "      acc = np.mean((ans==y_train).astype(int))\n",
        "      acc1 = np.mean((ans1==y_val).astype(int))\n",
        "      acc2 = np.mean((ans2==y_test).astype(int))\n",
        "      np.cuda.Stream.null.synchronize()\n",
        "\n",
        "      ACC = [acc,acc1,acc2]\n",
        "\n",
        "      print('Accuracy: ',ACC)\n",
        "\n",
        "\n",
        "\n",
        "  return W11,b11,W12,b12,W2,b2,W3,b3   "
      ],
      "execution_count": 0,
      "outputs": []
    },
    {
      "cell_type": "markdown",
      "metadata": {
        "id": "8szK1VshI_xC",
        "colab_type": "text"
      },
      "source": [
        "**Start training in loop**\n",
        "\n",
        "Trained only once here...\n",
        "\n",
        "The regularisation parameters & dropout probability given in the respective dictionaries\n",
        "\n",
        "*Import time from bottom if required!*"
      ]
    },
    {
      "cell_type": "code",
      "metadata": {
        "id": "wCRfZfzX6Xg2",
        "colab_type": "code",
        "outputId": "71607473-97bc-4f00-a19c-1cdcb22b4cf5",
        "colab": {
          "base_uri": "https://localhost:8080/",
          "height": 1000
        }
      },
      "source": [
        "st = time.time()\n",
        "\n",
        "for i in range(1):\n",
        "  learn_rate = np.random.rand() * -4\n",
        "  learn_rate = 10 ** learn_rate\n",
        "\n",
        "  learn_rate = 0.001\n",
        "\n",
        "  \n",
        "\n",
        "  reg_param = {'reg_fact_11': 1.19,\n",
        "    'reg_fact_12': 1.05,\n",
        "    'reg_fact_2': 1.07,\n",
        "    'reg_fact_3': 2.22}\n",
        "  keep_prob = {'keep_prob_11': 0.8, 'keep_prob_12': 0.85, 'keep_prob_2': 0.9}\n",
        "\n",
        "\n",
        "  print(\">>>>>>>>>>>>>>> reg =\",reg_param,\"|| keep_prob =\",keep_prob)\n",
        "  W11,b11,W12,b12,W2,b2,W3,b3=train_model(X_train,Y_train,iter=10000,keep_prob_11=keep_prob['keep_prob_11'],keep_prob_12=keep_prob['keep_prob_11'],keep_prob_2=keep_prob['keep_prob_11'],reg_fact_3=reg_param['reg_fact_3'],reg_fact_2=reg_param['reg_fact_2'],reg_fact_12=reg_param['reg_fact_12'],reg_fact_11=reg_param['reg_fact_11'])\n",
        "  np.cuda.Stream.null.synchronize()\n",
        "  print('===============',end=' ')\n",
        "\n",
        "et = time.time()\n",
        "\n",
        "el = et - st\n",
        "\n",
        "ans,_,__ = fwd_prop(X_train,Y_train,W11,b11,W12,b12,W2,b2,W3,b3)\n",
        "ans1,_,__ = fwd_prop(X_val,Y_val,W11,b11,W12,b12,W2,b2,W3,b3)\n",
        "ans2,_,__ = fwd_prop(X_test,Y_test,W11,b11,W12,b12,W2,b2,W3,b3)\n",
        "np.cuda.Stream.null.synchronize()\n",
        "\n",
        "ans = np.argmax(ans,axis=0)\n",
        "ans1 = np.argmax(ans1,axis=0)\n",
        "ans2 = np.argmax(ans2,axis=0)\n",
        "np.cuda.Stream.null.synchronize()\n",
        "\n",
        "acc = np.mean((ans==y_train).astype(int))\n",
        "acc1 = np.mean((ans1==y_val).astype(int))\n",
        "acc2 = np.mean((ans2==y_test).astype(int))\n",
        "np.cuda.Stream.null.synchronize()\n",
        "\n",
        "ACC = [acc,acc1,acc2]\n",
        "\n",
        "print('Accuracy: ',ACC)\n",
        "print(\"Time taken: \",el//60,'m ',el%60,'s')\n",
        "\n",
        "\n",
        "\n",
        "\n"
      ],
      "execution_count": 40,
      "outputs": [
        {
          "output_type": "stream",
          "text": [
            ">>>>>>>>>>>>>>> reg = {'reg_fact_11': 1.19, 'reg_fact_12': 1.05, 'reg_fact_2': 1.07, 'reg_fact_3': 2.22} || keep_prob = {'keep_prob_11': 0.8, 'keep_prob_12': 0.85, 'keep_prob_2': 0.9}\n",
            "\tIteration  0 :\t J= 2.4412185907031048\t\tAccuracy:  [array(0.231), array(0.2372), array(0.2278)]\n",
            "\tIteration  50 :\t J= 0.462452044739073\t\tAccuracy:  [array(0.91056), array(0.9197), array(0.9151)]\n",
            "\tIteration  100 :\t J= 0.34568213083533605\t\tAccuracy:  [array(0.93972), array(0.9425), array(0.9373)]\n",
            "\tIteration  150 :\t J= 0.24618255473204143\t\tAccuracy:  [array(0.94824), array(0.9498), array(0.9449)]\n",
            "\tIteration  200 :\t J= 0.33180260080909824\t\tAccuracy:  [array(0.95696), array(0.955), array(0.952)]\n",
            "\tIteration  250 :\t J= 0.20778113251989241\t\tAccuracy:  [array(0.96344), array(0.9597), array(0.9571)]\n",
            "\tIteration  300 :\t J= 0.19706124606776398\t\tAccuracy:  [array(0.96836), array(0.9644), array(0.9625)]\n",
            "\tIteration  350 :\t J= 0.17629661857223317\t\tAccuracy:  [array(0.97126), array(0.9656), array(0.9648)]\n",
            "\tIteration  400 :\t J= 0.19119370778386902\t\tAccuracy:  [array(0.97454), array(0.9667), array(0.9654)]\n",
            "\tIteration  450 :\t J= 0.1824810510554203\t\tAccuracy:  [array(0.97466), array(0.9669), array(0.9647)]\n",
            "\tIteration  500 :\t J= 0.1685731813205908\t\tAccuracy:  [array(0.97948), array(0.9705), array(0.9695)]\n",
            "\tIteration  550 :\t J= 0.15302931302833384\t\tAccuracy:  [array(0.98012), array(0.9688), array(0.9702)]\n",
            "\tIteration  600 :\t J= 0.14239016214703742\t\tAccuracy:  [array(0.98228), array(0.972), array(0.9719)]\n",
            "\tIteration  650 :\t J= 0.1519485555430808\t\tAccuracy:  [array(0.98124), array(0.9705), array(0.97)]\n",
            "\tIteration  700 :\t J= 0.16136444725046803\t\tAccuracy:  [array(0.98486), array(0.973), array(0.9718)]\n",
            "\tIteration  750 :\t J= 0.13645446974244174\t\tAccuracy:  [array(0.98656), array(0.9733), array(0.9731)]\n",
            "\tIteration  800 :\t J= 0.14959253242405313\t\tAccuracy:  [array(0.98604), array(0.9741), array(0.9722)]\n",
            "\tIteration  850 :\t J= 0.16553673814099001\t\tAccuracy:  [array(0.9871), array(0.9743), array(0.9732)]\n",
            "\tIteration  900 :\t J= 0.14626049301413793\t\tAccuracy:  [array(0.9872), array(0.9726), array(0.9741)]\n",
            "\tIteration  950 :\t J= 0.17059951006686314\t\tAccuracy:  [array(0.9891), array(0.9752), array(0.9739)]\n",
            "\tIteration  1000 :\t J= 0.11995001428569001\t\tAccuracy:  [array(0.99004), array(0.976), array(0.9765)]\n",
            "\tIteration  1050 :\t J= 0.11519416526292203\t\tAccuracy:  [array(0.98914), array(0.9751), array(0.9746)]\n",
            "\tIteration  1100 :\t J= 0.13065275143836658\t\tAccuracy:  [array(0.99144), array(0.9766), array(0.9768)]\n",
            "\tIteration  1150 :\t J= 0.1796381640191453\t\tAccuracy:  [array(0.99194), array(0.976), array(0.9772)]\n",
            "\tIteration  1200 :\t J= 0.11074123869750302\t\tAccuracy:  [array(0.99288), array(0.9769), array(0.9774)]\n",
            "\tIteration  1250 :\t J= 0.12110669336353098\t\tAccuracy:  [array(0.99142), array(0.9759), array(0.9761)]\n",
            "\tIteration  1300 :\t J= 0.11402495607300413\t\tAccuracy:  [array(0.9934), array(0.9774), array(0.9776)]\n",
            "\tIteration  1350 :\t J= 0.11492096125004192\t\tAccuracy:  [array(0.99198), array(0.9766), array(0.9776)]\n",
            "\tIteration  1400 :\t J= 0.11486727229108695\t\tAccuracy:  [array(0.99248), array(0.9757), array(0.9759)]\n",
            "\tIteration  1450 :\t J= 0.12024416614225394\t\tAccuracy:  [array(0.99306), array(0.9757), array(0.9773)]\n",
            "\tIteration  1500 :\t J= 0.11115935864241067\t\tAccuracy:  [array(0.995), array(0.9778), array(0.9785)]\n",
            "\tIteration  1550 :\t J= 0.10714484623854063\t\tAccuracy:  [array(0.99504), array(0.9776), array(0.9783)]\n",
            "\tIteration  1600 :\t J= 0.11379710412870353\t\tAccuracy:  [array(0.99604), array(0.9774), array(0.9774)]\n",
            "\tIteration  1650 :\t J= 0.10075215844013319\t\tAccuracy:  [array(0.99596), array(0.9777), array(0.9781)]\n",
            "\tIteration  1700 :\t J= 0.13618777864493276\t\tAccuracy:  [array(0.99616), array(0.9781), array(0.9793)]\n",
            "\tIteration  1750 :\t J= 0.10736725422023244\t\tAccuracy:  [array(0.99652), array(0.9784), array(0.9796)]\n",
            "\tIteration  1800 :\t J= 0.10623403818377583\t\tAccuracy:  [array(0.99676), array(0.9782), array(0.9787)]\n",
            "\tIteration  1850 :\t J= 0.09636465641813184\t\tAccuracy:  [array(0.99704), array(0.9787), array(0.9798)]\n",
            "\tIteration  1900 :\t J= 0.10261878423268972\t\tAccuracy:  [array(0.99648), array(0.9775), array(0.9803)]\n",
            "\tIteration  1950 :\t J= 0.1324619358864773\t\tAccuracy:  [array(0.99752), array(0.979), array(0.9789)]\n",
            "\tIteration  2000 :\t J= 0.11990636690061554\t\tAccuracy:  [array(0.99762), array(0.979), array(0.9796)]\n",
            "\tIteration  2050 :\t J= 0.11195702138837779\t\tAccuracy:  [array(0.99792), array(0.98), array(0.9805)]\n",
            "\tIteration  2100 :\t J= 0.10832036758713445\t\tAccuracy:  [array(0.99812), array(0.9797), array(0.98)]\n",
            "\tIteration  2150 :\t J= 0.11254667927402603\t\tAccuracy:  [array(0.99796), array(0.9787), array(0.9805)]\n",
            "\tIteration  2200 :\t J= 0.09713482366968387\t\tAccuracy:  [array(0.9982), array(0.979), array(0.9798)]\n",
            "\tIteration  2250 :\t J= 0.1044496091364863\t\tAccuracy:  [array(0.99842), array(0.9783), array(0.9804)]\n",
            "\tIteration  2300 :\t J= 0.11054689342295185\t\tAccuracy:  [array(0.99828), array(0.98), array(0.9799)]\n",
            "\tIteration  2350 :\t J= 0.11327516137633045\t\tAccuracy:  [array(0.99796), array(0.978), array(0.9806)]\n",
            "\tIteration  2400 :\t J= 0.1271631425512538\t\tAccuracy:  [array(0.99866), array(0.9797), array(0.9799)]\n",
            "\tIteration  2450 :\t J= 0.10385973003785953\t\tAccuracy:  [array(0.99864), array(0.9792), array(0.9801)]\n",
            "\tIteration  2500 :\t J= 0.100619483541584\t\tAccuracy:  [array(0.99884), array(0.9802), array(0.981)]\n",
            "\tIteration  2550 :\t J= 0.0963847049525344\t\tAccuracy:  [array(0.99866), array(0.98), array(0.9801)]\n",
            "\tIteration  2600 :\t J= 0.10745266375629273\t\tAccuracy:  [array(0.99824), array(0.9798), array(0.9801)]\n",
            "\tIteration  2650 :\t J= 0.13750269129473341\t\tAccuracy:  [array(0.99874), array(0.9802), array(0.9812)]\n",
            "\tIteration  2700 :\t J= 0.09799507814365807\t\tAccuracy:  [array(0.99894), array(0.9789), array(0.9803)]\n",
            "\tIteration  2750 :\t J= 0.1242286717636171\t\tAccuracy:  [array(0.99912), array(0.9794), array(0.9809)]\n",
            "\tIteration  2800 :\t J= 0.10700517323864758\t\tAccuracy:  [array(0.99926), array(0.98), array(0.9817)]\n",
            "\tIteration  2850 :\t J= 0.11703493779455976\t\tAccuracy:  [array(0.9993), array(0.9796), array(0.9797)]\n",
            "\tIteration  2900 :\t J= 0.10409009062158095\t\tAccuracy:  [array(0.99886), array(0.9796), array(0.9806)]\n",
            "\tIteration  2950 :\t J= 0.10063731067175849\t\tAccuracy:  [array(0.99944), array(0.9797), array(0.9802)]\n",
            "\tIteration  3000 :\t J= 0.1013900228611225\t\tAccuracy:  [array(0.99944), array(0.98), array(0.9809)]\n",
            "\tIteration  3050 :\t J= 0.11276309696850854\t\tAccuracy:  [array(0.99932), array(0.9796), array(0.9805)]\n",
            "\tIteration  3100 :\t J= 0.15221918507194443\t\tAccuracy:  [array(0.99946), array(0.98), array(0.9805)]\n",
            "\tIteration  3150 :\t J= 0.11707781609345366\t\tAccuracy:  [array(0.99944), array(0.9804), array(0.9815)]\n",
            "\tIteration  3200 :\t J= 0.12712164617480337\t\tAccuracy:  [array(0.99924), array(0.9796), array(0.9804)]\n",
            "\tIteration  3250 :\t J= 0.11752031109922703\t\tAccuracy:  [array(0.9994), array(0.9802), array(0.9806)]\n",
            "\tIteration  3300 :\t J= 0.11860114436874453\t\tAccuracy:  [array(0.9995), array(0.9803), array(0.9815)]\n",
            "\tIteration  3350 :\t J= 0.1363052124932624\t\tAccuracy:  [array(0.99954), array(0.9787), array(0.9807)]\n",
            "\tIteration  3400 :\t J= 0.12327997347210093\t\tAccuracy:  [array(0.99964), array(0.9799), array(0.9808)]\n",
            "\tIteration  3450 :\t J= 0.1581833104192928\t\tAccuracy:  [array(0.99962), array(0.981), array(0.9806)]\n",
            "\tIteration  3500 :\t J= 0.1170933758466326\t\tAccuracy:  [array(0.99976), array(0.9806), array(0.9812)]\n",
            "\tIteration  3550 :\t J= 0.12645033101999173\t\tAccuracy:  [array(0.9994), array(0.9796), array(0.9808)]\n",
            "\tIteration  3600 :\t J= 0.12122326016022653\t\tAccuracy:  [array(0.99974), array(0.9812), array(0.9814)]\n",
            "\tIteration  3650 :\t J= 0.12918925951514498\t\tAccuracy:  [array(0.99982), array(0.9805), array(0.983)]\n",
            "\tIteration  3700 :\t J= 0.13911016762877285\t\tAccuracy:  [array(0.99982), array(0.98), array(0.981)]\n",
            "\tIteration  3750 :\t J= 0.11800479544292633\t\tAccuracy:  [array(0.9997), array(0.9816), array(0.982)]\n",
            "\tIteration  3800 :\t J= 0.11808820965001238\t\tAccuracy:  [array(0.99974), array(0.9804), array(0.9803)]\n",
            "\tIteration  3850 :\t J= 0.12184165544793019\t\tAccuracy:  [array(0.99988), array(0.9807), array(0.9813)]\n",
            "\tIteration  3900 :\t J= 0.12420354033365089\t\tAccuracy:  [array(0.99982), array(0.9804), array(0.9797)]\n",
            "\tIteration  3950 :\t J= 0.12264905159149844\t\tAccuracy:  [array(0.99976), array(0.9807), array(0.9808)]\n",
            "\tIteration  4000 :\t J= 0.1293534847867685\t\tAccuracy:  [array(0.99982), array(0.9816), array(0.9824)]\n",
            "\tIteration  4050 :\t J= 0.14753561062163284\t\tAccuracy:  [array(0.99988), array(0.9808), array(0.9823)]\n",
            "\tIteration  4100 :\t J= 0.18400291244653758\t\tAccuracy:  [array(0.99984), array(0.9798), array(0.9808)]\n",
            "\tIteration  4150 :\t J= 0.15002808712141777\t\tAccuracy:  [array(0.99988), array(0.9806), array(0.9811)]\n",
            "\tIteration  4200 :\t J= 0.15875880466500972\t\tAccuracy:  [array(0.99994), array(0.981), array(0.9816)]\n",
            "\tIteration  4250 :\t J= 0.15118384362894838\t\tAccuracy:  [array(0.99998), array(0.9808), array(0.9815)]\n",
            "\tIteration  4300 :\t J= 0.15818250567550324\t\tAccuracy:  [array(0.99992), array(0.9808), array(0.9809)]\n",
            "\tIteration  4350 :\t J= 0.15577121537801583\t\tAccuracy:  [array(0.99988), array(0.9807), array(0.9821)]\n",
            "\tIteration  4400 :\t J= 0.15401475089860475\t\tAccuracy:  [array(0.99998), array(0.9809), array(0.9818)]\n",
            "\tIteration  4450 :\t J= 0.15923651439404224\t\tAccuracy:  [array(1.), array(0.9815), array(0.9815)]\n",
            "\tIteration  4500 :\t J= 0.14937123781502618\t\tAccuracy:  [array(0.99992), array(0.9815), array(0.9815)]\n",
            "\tIteration  4550 :\t J= 0.15244431619375154\t\tAccuracy:  [array(0.99998), array(0.981), array(0.9812)]\n",
            "\tIteration  4600 :\t J= 0.15853021637919973\t\tAccuracy:  [array(0.99992), array(0.9809), array(0.9814)]\n",
            "\tIteration  4650 :\t J= 0.16517767452186471\t\tAccuracy:  [array(0.99998), array(0.9811), array(0.9812)]\n",
            "\tIteration  4700 :\t J= 0.1588259828739833\t\tAccuracy:  [array(0.99998), array(0.9817), array(0.9825)]\n",
            "\tIteration  4750 :\t J= 0.16116220870197573\t\tAccuracy:  [array(0.99992), array(0.982), array(0.9813)]\n",
            "\tIteration  4800 :\t J= 0.16867737683946632\t\tAccuracy:  [array(0.9999), array(0.9812), array(0.9809)]\n",
            "\tIteration  4850 :\t J= 0.171837292092761\t\tAccuracy:  [array(1.), array(0.9813), array(0.9814)]\n",
            "\tIteration  4900 :\t J= 0.16477838316793367\t\tAccuracy:  [array(1.), array(0.9827), array(0.9822)]\n",
            "\tIteration  4950 :\t J= 0.16635765973987646\t\tAccuracy:  [array(1.), array(0.9819), array(0.9817)]\n",
            "\tIteration  5000 :\t J= 0.16521819559144493\t\tAccuracy:  [array(0.99998), array(0.9823), array(0.9826)]\n",
            "\tIteration  5050 :\t J= 0.21234983086372716\t\tAccuracy:  [array(0.99996), array(0.9823), array(0.9816)]\n",
            "\tIteration  5100 :\t J= 0.2135779812645921\t\tAccuracy:  [array(1.), array(0.9817), array(0.9819)]\n",
            "\tIteration  5150 :\t J= 0.2378046986758313\t\tAccuracy:  [array(0.99996), array(0.9817), array(0.9815)]\n",
            "\tIteration  5200 :\t J= 0.2174133463358646\t\tAccuracy:  [array(0.99998), array(0.9812), array(0.9818)]\n",
            "\tIteration  5250 :\t J= 0.22331561377112003\t\tAccuracy:  [array(0.99996), array(0.9824), array(0.9817)]\n",
            "\tIteration  5300 :\t J= 0.22952405561643097\t\tAccuracy:  [array(1.), array(0.9821), array(0.9818)]\n",
            "\tIteration  5350 :\t J= 0.2159856599941255\t\tAccuracy:  [array(1.), array(0.9821), array(0.9825)]\n",
            "\tIteration  5400 :\t J= 0.2681407355109611\t\tAccuracy:  [array(0.99994), array(0.9818), array(0.9815)]\n",
            "\tIteration  5450 :\t J= 0.2159485822487741\t\tAccuracy:  [array(1.), array(0.9805), array(0.9814)]\n",
            "\tIteration  5500 :\t J= 0.21544933052694926\t\tAccuracy:  [array(1.), array(0.9821), array(0.9823)]\n",
            "\tIteration  5550 :\t J= 0.23193236910378903\t\tAccuracy:  [array(0.99934), array(0.9806), array(0.9798)]\n",
            "\tIteration  5600 :\t J= 0.22527788180688038\t\tAccuracy:  [array(0.99994), array(0.9809), array(0.9816)]\n",
            "\tIteration  5650 :\t J= 0.22640258872895866\t\tAccuracy:  [array(0.9997), array(0.9807), array(0.9803)]\n",
            "\tIteration  5700 :\t J= 0.21658560338042998\t\tAccuracy:  [array(1.), array(0.9813), array(0.9807)]\n",
            "\tIteration  5750 :\t J= 0.22954471196408494\t\tAccuracy:  [array(1.), array(0.9821), array(0.9818)]\n",
            "\tIteration  5800 :\t J= 0.221041506107556\t\tAccuracy:  [array(0.99998), array(0.9815), array(0.9814)]\n",
            "\tIteration  5850 :\t J= 0.2201133681250423\t\tAccuracy:  [array(0.9999), array(0.9809), array(0.981)]\n",
            "\tIteration  5900 :\t J= 0.2209974188886224\t\tAccuracy:  [array(0.99998), array(0.9806), array(0.9799)]\n",
            "\tIteration  5950 :\t J= 0.22440438865718595\t\tAccuracy:  [array(0.99992), array(0.981), array(0.982)]\n",
            "\tIteration  6000 :\t J= 0.23583558651627273\t\tAccuracy:  [array(0.99998), array(0.9813), array(0.9819)]\n",
            "\tIteration  6050 :\t J= 0.31026896739451665\t\tAccuracy:  [array(1.), array(0.9811), array(0.9812)]\n",
            "\tIteration  6100 :\t J= 0.32095139196774797\t\tAccuracy:  [array(0.99996), array(0.981), array(0.9818)]\n",
            "\tIteration  6150 :\t J= 0.3107756224620711\t\tAccuracy:  [array(1.), array(0.9822), array(0.9822)]\n",
            "\tIteration  6200 :\t J= 0.3126757517478449\t\tAccuracy:  [array(0.99984), array(0.9804), array(0.9801)]\n",
            "\tIteration  6250 :\t J= 0.32009852366257774\t\tAccuracy:  [array(0.99998), array(0.9811), array(0.9808)]\n",
            "\tIteration  6300 :\t J= 0.316500072642465\t\tAccuracy:  [array(0.99996), array(0.9818), array(0.9809)]\n",
            "\tIteration  6350 :\t J= 0.31444866402554145\t\tAccuracy:  [array(0.99994), array(0.9814), array(0.9811)]\n",
            "\tIteration  6400 :\t J= 0.3162486046147142\t\tAccuracy:  [array(0.99998), array(0.9806), array(0.9811)]\n",
            "\tIteration  6450 :\t J= 0.31452888550892927\t\tAccuracy:  [array(1.), array(0.9819), array(0.9807)]\n",
            "\tIteration  6500 :\t J= 0.32134539828641995\t\tAccuracy:  [array(0.99998), array(0.9821), array(0.982)]\n",
            "\tIteration  6550 :\t J= 0.3115707515215329\t\tAccuracy:  [array(1.), array(0.9825), array(0.9817)]\n",
            "\tIteration  6600 :\t J= 0.315414850390991\t\tAccuracy:  [array(0.99984), array(0.9819), array(0.9808)]\n",
            "\tIteration  6650 :\t J= 0.31973299251505244\t\tAccuracy:  [array(0.99998), array(0.9804), array(0.9813)]\n",
            "\tIteration  6700 :\t J= 0.3125308798047349\t\tAccuracy:  [array(0.99998), array(0.9827), array(0.9825)]\n",
            "\tIteration  6750 :\t J= 0.31268681381480473\t\tAccuracy:  [array(0.99998), array(0.9834), array(0.9826)]\n",
            "\tIteration  6800 :\t J= 0.32145142364535756\t\tAccuracy:  [array(0.99998), array(0.9826), array(0.9819)]\n",
            "\tIteration  6850 :\t J= 0.31562151232469876\t\tAccuracy:  [array(1.), array(0.9814), array(0.9825)]\n",
            "\tIteration  6900 :\t J= 0.3183497866603471\t\tAccuracy:  [array(1.), array(0.9823), array(0.9835)]\n",
            "\tIteration  6950 :\t J= 0.31472853959897357\t\tAccuracy:  [array(0.99996), array(0.982), array(0.9823)]\n",
            "\tIteration  7000 :\t J= 0.3123675317924604\t\tAccuracy:  [array(1.), array(0.9823), array(0.9823)]\n",
            "\tIteration  7050 :\t J= 0.49094622609233296\t\tAccuracy:  [array(0.99998), array(0.9815), array(0.9806)]\n",
            "\tIteration  7100 :\t J= 0.474187460605878\t\tAccuracy:  [array(0.99998), array(0.9811), array(0.9822)]\n",
            "\tIteration  7150 :\t J= 0.4621026121852871\t\tAccuracy:  [array(0.99998), array(0.9817), array(0.9819)]\n",
            "\tIteration  7200 :\t J= 0.4697294052089204\t\tAccuracy:  [array(0.99992), array(0.9819), array(0.9817)]\n",
            "\tIteration  7250 :\t J= 0.47031844063967787\t\tAccuracy:  [array(1.), array(0.9818), array(0.9819)]\n",
            "\tIteration  7300 :\t J= 0.46087691026461364\t\tAccuracy:  [array(1.), array(0.9826), array(0.9832)]\n",
            "\tIteration  7350 :\t J= 0.464159369047609\t\tAccuracy:  [array(0.99998), array(0.9814), array(0.9803)]\n",
            "\tIteration  7400 :\t J= 0.4613887113568119\t\tAccuracy:  [array(0.9999), array(0.9809), array(0.9817)]\n",
            "\tIteration  7450 :\t J= 0.4849962981874161\t\tAccuracy:  [array(0.99996), array(0.982), array(0.982)]\n",
            "\tIteration  7500 :\t J= 0.46029732373652577\t\tAccuracy:  [array(0.99992), array(0.9814), array(0.9813)]\n",
            "\tIteration  7550 :\t J= 0.46079107192296265\t\tAccuracy:  [array(0.99998), array(0.9822), array(0.9818)]\n",
            "\tIteration  7600 :\t J= 0.45368122491985535\t\tAccuracy:  [array(0.99994), array(0.9816), array(0.9811)]\n",
            "\tIteration  7650 :\t J= 0.47979612397657123\t\tAccuracy:  [array(0.9999), array(0.9825), array(0.9812)]\n",
            "\tIteration  7700 :\t J= 0.4817163925065158\t\tAccuracy:  [array(0.99998), array(0.983), array(0.9823)]\n",
            "\tIteration  7750 :\t J= 0.459487661549351\t\tAccuracy:  [array(0.9998), array(0.9808), array(0.9814)]\n",
            "\tIteration  7800 :\t J= 0.534499735657963\t\tAccuracy:  [array(0.99998), array(0.9811), array(0.9809)]\n",
            "\tIteration  7850 :\t J= 0.45653087553078897\t\tAccuracy:  [array(1.), array(0.9831), array(0.9803)]\n",
            "\tIteration  7900 :\t J= 0.4554359768270506\t\tAccuracy:  [array(0.99988), array(0.9819), array(0.9815)]\n",
            "\tIteration  7950 :\t J= 0.4549923964078659\t\tAccuracy:  [array(0.9997), array(0.9823), array(0.9811)]\n",
            "\tIteration  8000 :\t J= 0.45921349988336496\t\tAccuracy:  [array(0.99976), array(0.9815), array(0.9799)]\n",
            "\tIteration  8050 :\t J= 0.7178084029990621\t\tAccuracy:  [array(1.), array(0.9825), array(0.9826)]\n",
            "\tIteration  8100 :\t J= 0.7068505310747296\t\tAccuracy:  [array(0.99968), array(0.9803), array(0.9814)]\n",
            "\tIteration  8150 :\t J= 0.7105924872334536\t\tAccuracy:  [array(0.99998), array(0.9819), array(0.9822)]\n",
            "\tIteration  8200 :\t J= 0.7045313715242189\t\tAccuracy:  [array(1.), array(0.9824), array(0.9821)]\n",
            "\tIteration  8250 :\t J= 0.6990892799865192\t\tAccuracy:  [array(0.99974), array(0.9821), array(0.981)]\n",
            "\tIteration  8300 :\t J= 0.7192534430300888\t\tAccuracy:  [array(0.9999), array(0.9822), array(0.9807)]\n",
            "\tIteration  8350 :\t J= 0.6880971087499547\t\tAccuracy:  [array(0.99996), array(0.9832), array(0.983)]\n",
            "\tIteration  8400 :\t J= 0.6822723858193815\t\tAccuracy:  [array(0.99966), array(0.9808), array(0.9802)]\n",
            "\tIteration  8450 :\t J= 0.6955952535513914\t\tAccuracy:  [array(0.99994), array(0.9825), array(0.9809)]\n",
            "\tIteration  8500 :\t J= 0.6887961150800975\t\tAccuracy:  [array(0.99994), array(0.9822), array(0.9819)]\n",
            "\tIteration  8550 :\t J= 0.6772874180366575\t\tAccuracy:  [array(0.99996), array(0.9818), array(0.9831)]\n",
            "\tIteration  8600 :\t J= 0.6693629511240939\t\tAccuracy:  [array(0.99978), array(0.9808), array(0.9817)]\n",
            "\tIteration  8650 :\t J= 0.6844905729779712\t\tAccuracy:  [array(0.997), array(0.9779), array(0.9779)]\n",
            "\tIteration  8700 :\t J= 0.6807733013325356\t\tAccuracy:  [array(0.99916), array(0.9801), array(0.9796)]\n",
            "\tIteration  8750 :\t J= 0.6631568959152908\t\tAccuracy:  [array(0.99976), array(0.9819), array(0.9819)]\n",
            "\tIteration  8800 :\t J= 0.6754422733213794\t\tAccuracy:  [array(0.9999), array(0.9811), array(0.9807)]\n",
            "\tIteration  8850 :\t J= 0.6667623360514207\t\tAccuracy:  [array(0.99986), array(0.9818), array(0.9832)]\n",
            "\tIteration  8900 :\t J= 0.6605948977813203\t\tAccuracy:  [array(0.99988), array(0.981), array(0.9803)]\n",
            "\tIteration  8950 :\t J= 0.6611385317557245\t\tAccuracy:  [array(0.99998), array(0.9816), array(0.9818)]\n",
            "\tIteration  9000 :\t J= 0.6615821593476436\t\tAccuracy:  [array(0.99992), array(0.9818), array(0.9816)]\n",
            "\tIteration  9050 :\t J= 1.0880539385393482\t\tAccuracy:  [array(0.99992), array(0.9821), array(0.9816)]\n",
            "\tIteration  9100 :\t J= 1.0835694532398688\t\tAccuracy:  [array(0.99956), array(0.9815), array(0.9814)]\n",
            "\tIteration  9150 :\t J= 1.058549795911675\t\tAccuracy:  [array(0.99992), array(0.9814), array(0.9816)]\n",
            "\tIteration  9200 :\t J= 1.0511575650286298\t\tAccuracy:  [array(0.99972), array(0.9816), array(0.9818)]\n",
            "\tIteration  9250 :\t J= 1.0515285812199329\t\tAccuracy:  [array(0.99926), array(0.9804), array(0.9803)]\n",
            "\tIteration  9300 :\t J= 1.0509728963877263\t\tAccuracy:  [array(0.9997), array(0.9814), array(0.9818)]\n",
            "\tIteration  9350 :\t J= 1.0340325905233967\t\tAccuracy:  [array(0.9997), array(0.9813), array(0.9819)]\n",
            "\tIteration  9400 :\t J= 1.022149687940793\t\tAccuracy:  [array(0.99988), array(0.9835), array(0.9828)]\n",
            "\tIteration  9450 :\t J= 1.0084886927624528\t\tAccuracy:  [array(0.99966), array(0.9815), array(0.9804)]\n",
            "\tIteration  9500 :\t J= 1.0042951754908265\t\tAccuracy:  [array(0.99954), array(0.9812), array(0.9825)]\n",
            "\tIteration  9550 :\t J= 1.0078484328256512\t\tAccuracy:  [array(0.99962), array(0.9814), array(0.9811)]\n",
            "\tIteration  9600 :\t J= 1.006381319612569\t\tAccuracy:  [array(0.99976), array(0.9833), array(0.9825)]\n",
            "\tIteration  9650 :\t J= 1.0066777058322574\t\tAccuracy:  [array(0.99958), array(0.9817), array(0.9821)]\n",
            "\tIteration  9700 :\t J= 1.0329920501910623\t\tAccuracy:  [array(0.9999), array(0.9828), array(0.9829)]\n",
            "\tIteration  9750 :\t J= 0.9986715378478979\t\tAccuracy:  [array(0.99924), array(0.9804), array(0.9812)]\n",
            "\tIteration  9800 :\t J= 1.0262934821043712\t\tAccuracy:  [array(0.99942), array(0.9802), array(0.9822)]\n",
            "\tIteration  9850 :\t J= 0.9880085047447795\t\tAccuracy:  [array(0.99964), array(0.9833), array(0.9823)]\n",
            "\tIteration  9900 :\t J= 0.979883100400634\t\tAccuracy:  [array(0.99958), array(0.9825), array(0.9806)]\n",
            "\tIteration  9950 :\t J= 1.0053603639164372\t\tAccuracy:  [array(0.99964), array(0.9812), array(0.9809)]\n",
            "=============== Accuracy:  [array(0.99984), array(0.982), array(0.9827)]\n",
            "Time taken:  12.0 m  47.37021255493164 s\n"
          ],
          "name": "stdout"
        }
      ]
    },
    {
      "cell_type": "markdown",
      "metadata": {
        "id": "UpOKlsAlJlRx",
        "colab_type": "text"
      },
      "source": [
        "**Some logs**\n",
        "\n",
        "LOGS10000 - 10k iterations\n",
        "\n",
        "LOGS1 and LOGS are for 1000 iterations\n",
        "\n",
        "softmax function factors were changed in middle to check affect n accuracy. keep_prob and reg_param were changed in middle. learning_decay was also tried.\n"
      ]
    },
    {
      "cell_type": "code",
      "metadata": {
        "id": "UQfdPxXHMObq",
        "colab_type": "code",
        "colab": {}
      },
      "source": [
        "logs = [[reg_param,keep_prob],acc]\n",
        "LOGS10000.append(logs)"
      ],
      "execution_count": 0,
      "outputs": []
    },
    {
      "cell_type": "code",
      "metadata": {
        "id": "aloXLjEc2Ac4",
        "colab_type": "code",
        "outputId": "946ea87c-2082-4b2c-e6ff-433be00cc052",
        "colab": {
          "base_uri": "https://localhost:8080/",
          "height": 119
        }
      },
      "source": [
        "LOGS10000"
      ],
      "execution_count": 0,
      "outputs": [
        {
          "output_type": "execute_result",
          "data": {
            "text/plain": [
              "[[[{'reg_fact_11': 1.19,\n",
              "    'reg_fact_12': 1.05,\n",
              "    'reg_fact_2': 1.07,\n",
              "    'reg_fact_3': 2.22},\n",
              "   {'keep_prob_11': 0.9, 'keep_prob_12': 1.07, 'keep_prob_2': 0.95}],\n",
              "  [array(0.9857), array(0.9843)]]]"
            ]
          },
          "metadata": {
            "tags": []
          },
          "execution_count": 39
        }
      ]
    },
    {
      "cell_type": "code",
      "metadata": {
        "id": "RsGw8mUszjSY",
        "colab_type": "code",
        "outputId": "109dacd3-b7b9-4ef3-d02d-5e5e3aba246f",
        "colab": {
          "base_uri": "https://localhost:8080/",
          "height": 119
        }
      },
      "source": [
        "LOGS1"
      ],
      "execution_count": 0,
      "outputs": [
        {
          "output_type": "execute_result",
          "data": {
            "text/plain": [
              "[[[{'reg_fact_11': 1.19,\n",
              "    'reg_fact_12': 1.05,\n",
              "    'reg_fact_2': 1.31,\n",
              "    'reg_fact_3': 2.22},\n",
              "   {'keep_prob_11': 0.9, 'keep_prob_12': 0.86, 'keep_prob_2': 0.95}],\n",
              "  [array(0.9786), array(0.9787)]]]"
            ]
          },
          "metadata": {
            "tags": []
          },
          "execution_count": 47
        }
      ]
    },
    {
      "cell_type": "code",
      "metadata": {
        "id": "ezezrBPVvWEY",
        "colab_type": "code",
        "outputId": "9de6e23b-b0bf-42fd-b5c3-5d09726196d7",
        "colab": {
          "base_uri": "https://localhost:8080/",
          "height": 629
        }
      },
      "source": [
        "LOGS.append('adding rate decay (1/sqrt(epoch))')\n",
        "LOGS"
      ],
      "execution_count": 0,
      "outputs": [
        {
          "output_type": "execute_result",
          "data": {
            "text/plain": [
              "[[{'reg_fact_11': 1.19,\n",
              "   'reg_fact_12': 1.05,\n",
              "   'reg_fact_2': 1.2,\n",
              "   'reg_fact_3': 1.2},\n",
              "  [array(0.9761), array(0.9752)]],\n",
              " [[{'reg_fact_11': 1.19,\n",
              "    'reg_fact_12': 1.05,\n",
              "    'reg_fact_2': 1.2,\n",
              "    'reg_fact_3': 1.2},\n",
              "   {'keep_prob_11': 0.93, 'keep_prob_12': 0.87, 'keep_prob_2': 0.95}],\n",
              "  [array(0.9823), array(0.9813)]],\n",
              " [[{'reg_fact_11': 1.19,\n",
              "    'reg_fact_12': 1.05,\n",
              "    'reg_fact_2': 1.01,\n",
              "    'reg_fact_3': 1.2},\n",
              "   {'keep_prob_11': 0.85, 'keep_prob_12': 0.87, 'keep_prob_2': 0.92}],\n",
              "  [array(0.9815), array(0.9814)]],\n",
              " [[{'reg_fact_11': 1.19,\n",
              "    'reg_fact_12': 1.05,\n",
              "    'reg_fact_2': 1.11,\n",
              "    'reg_fact_3': 1.2},\n",
              "   {'keep_prob_11': 0.91, 'keep_prob_12': 0.87, 'keep_prob_2': 0.92}],\n",
              "  [array(0.9826), array(0.9814)]],\n",
              " 'changing softmax coeff from 5 to 1',\n",
              " [[{'reg_fact_11': 1.19,\n",
              "    'reg_fact_12': 1.05,\n",
              "    'reg_fact_2': 1.11,\n",
              "    'reg_fact_3': 1.2},\n",
              "   {'keep_prob_11': 0.91, 'keep_prob_12': 0.87, 'keep_prob_2': 0.92}],\n",
              "  [array(0.9835), array(0.9836)]],\n",
              " [[{'reg_fact_11': 1.19,\n",
              "    'reg_fact_12': 1.05,\n",
              "    'reg_fact_2': 1.11,\n",
              "    'reg_fact_3': 1.2},\n",
              "   {'keep_prob_11': 0.91, 'keep_prob_12': 0.87, 'keep_prob_2': 0.95}],\n",
              "  [array(0.9842), array(0.984)]]]"
            ]
          },
          "metadata": {
            "tags": []
          },
          "execution_count": 71
        }
      ]
    },
    {
      "cell_type": "markdown",
      "metadata": {
        "id": "SS1eS3JQMSNH",
        "colab_type": "text"
      },
      "source": [
        ""
      ]
    },
    {
      "cell_type": "code",
      "metadata": {
        "id": "FVPwwUpuWdqk",
        "colab_type": "code",
        "outputId": "4f5b3d8c-fcea-4052-e8f3-2077b0798afc",
        "colab": {
          "base_uri": "https://localhost:8080/",
          "height": 408
        }
      },
      "source": [
        "LOGS"
      ],
      "execution_count": 0,
      "outputs": [
        {
          "output_type": "execute_result",
          "data": {
            "text/plain": [
              "[[{'reg_fact_11': 1.19,\n",
              "   'reg_fact_12': 1.05,\n",
              "   'reg_fact_2': 1.2,\n",
              "   'reg_fact_3': 1.2},\n",
              "  [array(0.9761), array(0.9752)]],\n",
              " [[{'reg_fact_11': 1.19,\n",
              "    'reg_fact_12': 1.05,\n",
              "    'reg_fact_2': 1.2,\n",
              "    'reg_fact_3': 1.2},\n",
              "   {'keep_prob_11': 0.93, 'keep_prob_12': 0.87, 'keep_prob_2': 0.95}],\n",
              "  [array(0.9823), array(0.9813)]],\n",
              " [[{'reg_fact_11': 1.19,\n",
              "    'reg_fact_12': 1.05,\n",
              "    'reg_fact_2': 1.01,\n",
              "    'reg_fact_3': 1.2},\n",
              "   {'keep_prob_11': 0.85, 'keep_prob_12': 0.87, 'keep_prob_2': 0.92}],\n",
              "  [array(0.9815), array(0.9814)]],\n",
              " [[{'reg_fact_11': 1.19,\n",
              "    'reg_fact_12': 1.05,\n",
              "    'reg_fact_2': 1.11,\n",
              "    'reg_fact_3': 1.2},\n",
              "   {'keep_prob_11': 0.91, 'keep_prob_12': 0.87, 'keep_prob_2': 0.92}],\n",
              "  [array(0.9826), array(0.9814)]]]"
            ]
          },
          "metadata": {
            "tags": []
          },
          "execution_count": 63
        }
      ]
    },
    {
      "cell_type": "markdown",
      "metadata": {
        "id": "jEfmra5IMSVc",
        "colab_type": "text"
      },
      "source": [
        "**Val and Test data prediction**"
      ]
    },
    {
      "cell_type": "code",
      "metadata": {
        "id": "WAvU2ReW1dqE",
        "colab_type": "code",
        "outputId": "5b9769e5-194f-4a95-a24c-6e6dfe954f12",
        "colab": {
          "base_uri": "https://localhost:8080/",
          "height": 34
        }
      },
      "source": [
        "ans,_,__ = fwd_prop(X_val,Y_val,W11,b11,W12,b12,W2,b2,W3,b3)\n",
        "ans = np.argmax(ans,axis=0)\n",
        "np.mean((ans==y_val).astype(int))"
      ],
      "execution_count": 0,
      "outputs": [
        {
          "output_type": "execute_result",
          "data": {
            "text/plain": [
              "0.9707"
            ]
          },
          "metadata": {
            "tags": []
          },
          "execution_count": 91
        }
      ]
    },
    {
      "cell_type": "code",
      "metadata": {
        "id": "yGaxMdj2hHFl",
        "colab_type": "code",
        "outputId": "87a06f8b-d607-4db0-e0ce-2898c3af34ba",
        "colab": {
          "base_uri": "https://localhost:8080/",
          "height": 34
        }
      },
      "source": [
        "ans1,_,__ = fwd_prop(X_test,Y_test,W11,b11,W12,b12,W2,b2,W3,b3)\n",
        "ans1 = np.argmax(ans1,axis=0)\n",
        "np.mean((ans1==y_test).astype(int))"
      ],
      "execution_count": 0,
      "outputs": [
        {
          "output_type": "execute_result",
          "data": {
            "text/plain": [
              "0.9699"
            ]
          },
          "metadata": {
            "tags": []
          },
          "execution_count": 92
        }
      ]
    },
    {
      "cell_type": "markdown",
      "metadata": {
        "id": "Ba4fkqbKKQa0",
        "colab_type": "text"
      },
      "source": [
        "Import time if required..."
      ]
    },
    {
      "cell_type": "code",
      "metadata": {
        "id": "a32XW3jWZLZW",
        "colab_type": "code",
        "colab": {}
      },
      "source": [
        "import time"
      ],
      "execution_count": 0,
      "outputs": []
    },
    {
      "cell_type": "code",
      "metadata": {
        "id": "i7zZHD54X-kX",
        "colab_type": "code",
        "colab": {}
      },
      "source": [
        "LOG_REG_INC=[]"
      ],
      "execution_count": 0,
      "outputs": []
    },
    {
      "cell_type": "code",
      "metadata": {
        "id": "bedOyuS0_Gk0",
        "colab_type": "code",
        "colab": {}
      },
      "source": [
        ""
      ],
      "execution_count": 0,
      "outputs": []
    }
  ]
}